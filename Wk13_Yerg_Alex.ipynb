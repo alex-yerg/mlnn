{
 "cells": [
  {
   "cell_type": "markdown",
   "metadata": {},
   "source": [
    "# NLP\n",
    "Find your favorite news source and grab the article text. \n",
    "\n",
    "1. Show the most common words in the article.\n",
    "2. Show the most common words under a part of speech. (i.e. NOUN: {'Bob':12, 'Alice':4,})\n",
    "3. Find a subject/object relationship through the dependency parser in any sentence.\n",
    "4. Show the most common Entities and their types. \n",
    "5. Find Entites and their dependency (hint: entity.root.head)\n",
    "6. Find the most similar words in the article"
   ]
  },
  {
   "cell_type": "markdown",
   "metadata": {
    "collapsed": true,
    "jupyter": {
     "outputs_hidden": true
    }
   },
   "source": [
    "Note: Yes, the notebook from the video is not provided, I leave it to you to make your own :) it's your final assignment for the semester. Enjoy!"
   ]
  },
  {
   "cell_type": "markdown",
   "metadata": {},
   "source": [
    "# Setup Spacey and English model"
   ]
  },
  {
   "cell_type": "code",
   "execution_count": 2,
   "metadata": {
    "scrolled": true
   },
   "outputs": [
    {
     "name": "stdout",
     "output_type": "stream",
     "text": [
      "Collecting spacy\n",
      "  Downloading spacy-3.7.4-cp311-cp311-macosx_10_9_x86_64.whl.metadata (27 kB)\n",
      "Collecting spacy-legacy<3.1.0,>=3.0.11 (from spacy)\n",
      "  Downloading spacy_legacy-3.0.12-py2.py3-none-any.whl.metadata (2.8 kB)\n",
      "Collecting spacy-loggers<2.0.0,>=1.0.0 (from spacy)\n",
      "  Downloading spacy_loggers-1.0.5-py3-none-any.whl.metadata (23 kB)\n",
      "Collecting murmurhash<1.1.0,>=0.28.0 (from spacy)\n",
      "  Downloading murmurhash-1.0.10-cp311-cp311-macosx_10_9_x86_64.whl.metadata (2.0 kB)\n",
      "Collecting cymem<2.1.0,>=2.0.2 (from spacy)\n",
      "  Downloading cymem-2.0.8-cp311-cp311-macosx_10_9_x86_64.whl.metadata (8.4 kB)\n",
      "Collecting preshed<3.1.0,>=3.0.2 (from spacy)\n",
      "  Downloading preshed-3.0.9-cp311-cp311-macosx_10_9_x86_64.whl.metadata (2.2 kB)\n",
      "Collecting thinc<8.3.0,>=8.2.2 (from spacy)\n",
      "  Downloading thinc-8.2.3-cp311-cp311-macosx_10_9_x86_64.whl.metadata (15 kB)\n",
      "Collecting wasabi<1.2.0,>=0.9.1 (from spacy)\n",
      "  Downloading wasabi-1.1.2-py3-none-any.whl.metadata (28 kB)\n",
      "Collecting srsly<3.0.0,>=2.4.3 (from spacy)\n",
      "  Downloading srsly-2.4.8-cp311-cp311-macosx_10_9_x86_64.whl.metadata (20 kB)\n",
      "Collecting catalogue<2.1.0,>=2.0.6 (from spacy)\n",
      "  Downloading catalogue-2.0.10-py3-none-any.whl.metadata (14 kB)\n",
      "Collecting weasel<0.4.0,>=0.1.0 (from spacy)\n",
      "  Downloading weasel-0.3.4-py3-none-any.whl.metadata (4.7 kB)\n",
      "Collecting typer<0.10.0,>=0.3.0 (from spacy)\n",
      "  Downloading typer-0.9.4-py3-none-any.whl.metadata (14 kB)\n",
      "Requirement already satisfied: smart-open<7.0.0,>=5.2.1 in /opt/anaconda3/lib/python3.11/site-packages (from spacy) (5.2.1)\n",
      "Requirement already satisfied: tqdm<5.0.0,>=4.38.0 in /opt/anaconda3/lib/python3.11/site-packages (from spacy) (4.65.0)\n",
      "Requirement already satisfied: requests<3.0.0,>=2.13.0 in /opt/anaconda3/lib/python3.11/site-packages (from spacy) (2.31.0)\n",
      "Requirement already satisfied: pydantic!=1.8,!=1.8.1,<3.0.0,>=1.7.4 in /opt/anaconda3/lib/python3.11/site-packages (from spacy) (1.10.12)\n",
      "Requirement already satisfied: jinja2 in /opt/anaconda3/lib/python3.11/site-packages (from spacy) (3.1.3)\n",
      "Requirement already satisfied: setuptools in /opt/anaconda3/lib/python3.11/site-packages (from spacy) (68.2.2)\n",
      "Requirement already satisfied: packaging>=20.0 in /opt/anaconda3/lib/python3.11/site-packages (from spacy) (23.1)\n",
      "Collecting langcodes<4.0.0,>=3.2.0 (from spacy)\n",
      "  Downloading langcodes-3.3.0-py3-none-any.whl.metadata (29 kB)\n",
      "Requirement already satisfied: numpy>=1.19.0 in /opt/anaconda3/lib/python3.11/site-packages (from spacy) (1.26.4)\n",
      "Requirement already satisfied: typing-extensions>=4.2.0 in /opt/anaconda3/lib/python3.11/site-packages (from pydantic!=1.8,!=1.8.1,<3.0.0,>=1.7.4->spacy) (4.9.0)\n",
      "Requirement already satisfied: charset-normalizer<4,>=2 in /opt/anaconda3/lib/python3.11/site-packages (from requests<3.0.0,>=2.13.0->spacy) (2.0.4)\n",
      "Requirement already satisfied: idna<4,>=2.5 in /opt/anaconda3/lib/python3.11/site-packages (from requests<3.0.0,>=2.13.0->spacy) (3.4)\n",
      "Requirement already satisfied: urllib3<3,>=1.21.1 in /opt/anaconda3/lib/python3.11/site-packages (from requests<3.0.0,>=2.13.0->spacy) (2.0.7)\n",
      "Requirement already satisfied: certifi>=2017.4.17 in /opt/anaconda3/lib/python3.11/site-packages (from requests<3.0.0,>=2.13.0->spacy) (2024.2.2)\n",
      "Collecting blis<0.8.0,>=0.7.8 (from thinc<8.3.0,>=8.2.2->spacy)\n",
      "  Downloading blis-0.7.11-cp311-cp311-macosx_10_9_x86_64.whl.metadata (7.4 kB)\n",
      "Collecting confection<1.0.0,>=0.0.1 (from thinc<8.3.0,>=8.2.2->spacy)\n",
      "  Downloading confection-0.1.4-py3-none-any.whl.metadata (19 kB)\n",
      "Requirement already satisfied: click<9.0.0,>=7.1.1 in /opt/anaconda3/lib/python3.11/site-packages (from typer<0.10.0,>=0.3.0->spacy) (8.1.7)\n",
      "Collecting cloudpathlib<0.17.0,>=0.7.0 (from weasel<0.4.0,>=0.1.0->spacy)\n",
      "  Downloading cloudpathlib-0.16.0-py3-none-any.whl.metadata (14 kB)\n",
      "Requirement already satisfied: MarkupSafe>=2.0 in /opt/anaconda3/lib/python3.11/site-packages (from jinja2->spacy) (2.1.3)\n",
      "Downloading spacy-3.7.4-cp311-cp311-macosx_10_9_x86_64.whl (6.7 MB)\n",
      "\u001b[2K   \u001b[90m━━━━━━━━━━━━━━━━━━━━━━━━━━━━━━━━━━━━━━━━\u001b[0m \u001b[32m6.7/6.7 MB\u001b[0m \u001b[31m17.7 MB/s\u001b[0m eta \u001b[36m0:00:00\u001b[0m00:01\u001b[0m00:01\u001b[0m\n",
      "\u001b[?25hDownloading catalogue-2.0.10-py3-none-any.whl (17 kB)\n",
      "Downloading cymem-2.0.8-cp311-cp311-macosx_10_9_x86_64.whl (41 kB)\n",
      "\u001b[2K   \u001b[90m━━━━━━━━━━━━━━━━━━━━━━━━━━━━━━━━━━━━━━━━\u001b[0m \u001b[32m41.9/41.9 kB\u001b[0m \u001b[31m3.8 MB/s\u001b[0m eta \u001b[36m0:00:00\u001b[0m\n",
      "\u001b[?25hDownloading langcodes-3.3.0-py3-none-any.whl (181 kB)\n",
      "\u001b[2K   \u001b[90m━━━━━━━━━━━━━━━━━━━━━━━━━━━━━━━━━━━━━━━━\u001b[0m \u001b[32m181.6/181.6 kB\u001b[0m \u001b[31m14.1 MB/s\u001b[0m eta \u001b[36m0:00:00\u001b[0m\n",
      "\u001b[?25hDownloading murmurhash-1.0.10-cp311-cp311-macosx_10_9_x86_64.whl (26 kB)\n",
      "Downloading preshed-3.0.9-cp311-cp311-macosx_10_9_x86_64.whl (132 kB)\n",
      "\u001b[2K   \u001b[90m━━━━━━━━━━━━━━━━━━━━━━━━━━━━━━━━━━━━━━━━\u001b[0m \u001b[32m133.0/133.0 kB\u001b[0m \u001b[31m13.0 MB/s\u001b[0m eta \u001b[36m0:00:00\u001b[0m\n",
      "\u001b[?25hDownloading spacy_legacy-3.0.12-py2.py3-none-any.whl (29 kB)\n",
      "Downloading spacy_loggers-1.0.5-py3-none-any.whl (22 kB)\n",
      "Downloading srsly-2.4.8-cp311-cp311-macosx_10_9_x86_64.whl (490 kB)\n",
      "\u001b[2K   \u001b[90m━━━━━━━━━━━━━━━━━━━━━━━━━━━━━━━━━━━━━━━━\u001b[0m \u001b[32m490.0/490.0 kB\u001b[0m \u001b[31m12.4 MB/s\u001b[0m eta \u001b[36m0:00:00\u001b[0m00:01\u001b[0m\n",
      "\u001b[?25hDownloading thinc-8.2.3-cp311-cp311-macosx_10_9_x86_64.whl (863 kB)\n",
      "\u001b[2K   \u001b[90m━━━━━━━━━━━━━━━━━━━━━━━━━━━━━━━━━━━━━━━━\u001b[0m \u001b[32m863.7/863.7 kB\u001b[0m \u001b[31m17.8 MB/s\u001b[0m eta \u001b[36m0:00:00\u001b[0m00:01\u001b[0m\n",
      "\u001b[?25hDownloading typer-0.9.4-py3-none-any.whl (45 kB)\n",
      "\u001b[2K   \u001b[90m━━━━━━━━━━━━━━━━━━━━━━━━━━━━━━━━━━━━━━━━\u001b[0m \u001b[32m46.0/46.0 kB\u001b[0m \u001b[31m3.0 MB/s\u001b[0m eta \u001b[36m0:00:00\u001b[0m\n",
      "\u001b[?25hDownloading wasabi-1.1.2-py3-none-any.whl (27 kB)\n",
      "Downloading weasel-0.3.4-py3-none-any.whl (50 kB)\n",
      "\u001b[2K   \u001b[90m━━━━━━━━━━━━━━━━━━━━━━━━━━━━━━━━━━━━━━━━\u001b[0m \u001b[32m50.1/50.1 kB\u001b[0m \u001b[31m4.0 MB/s\u001b[0m eta \u001b[36m0:00:00\u001b[0m\n",
      "\u001b[?25hDownloading blis-0.7.11-cp311-cp311-macosx_10_9_x86_64.whl (6.1 MB)\n",
      "\u001b[2K   \u001b[90m━━━━━━━━━━━━━━━━━━━━━━━━━━━━━━━━━━━━━━━━\u001b[0m \u001b[32m6.1/6.1 MB\u001b[0m \u001b[31m19.2 MB/s\u001b[0m eta \u001b[36m0:00:00\u001b[0m00:01\u001b[0m00:01\u001b[0m\n",
      "\u001b[?25hDownloading cloudpathlib-0.16.0-py3-none-any.whl (45 kB)\n",
      "\u001b[2K   \u001b[90m━━━━━━━━━━━━━━━━━━━━━━━━━━━━━━━━━━━━━━━━\u001b[0m \u001b[32m45.0/45.0 kB\u001b[0m \u001b[31m2.4 MB/s\u001b[0m eta \u001b[36m0:00:00\u001b[0m\n",
      "\u001b[?25hDownloading confection-0.1.4-py3-none-any.whl (35 kB)\n",
      "Installing collected packages: cymem, wasabi, typer, spacy-loggers, spacy-legacy, murmurhash, langcodes, cloudpathlib, catalogue, blis, srsly, preshed, confection, weasel, thinc, spacy\n",
      "Successfully installed blis-0.7.11 catalogue-2.0.10 cloudpathlib-0.16.0 confection-0.1.4 cymem-2.0.8 langcodes-3.3.0 murmurhash-1.0.10 preshed-3.0.9 spacy-3.7.4 spacy-legacy-3.0.12 spacy-loggers-1.0.5 srsly-2.4.8 thinc-8.2.3 typer-0.9.4 wasabi-1.1.2 weasel-0.3.4\n",
      "Note: you may need to restart the kernel to use updated packages.\n"
     ]
    }
   ],
   "source": [
    "pip install spac"
   ]
  },
  {
   "cell_type": "code",
   "execution_count": 5,
   "metadata": {
    "scrolled": true
   },
   "outputs": [
    {
     "name": "stdout",
     "output_type": "stream",
     "text": [
      "Requirement already satisfied: pip in /opt/anaconda3/lib/python3.11/site-packages (24.0)\n",
      "Requirement already satisfied: setuptools in /opt/anaconda3/lib/python3.11/site-packages (68.2.2)\n",
      "Collecting setuptools\n",
      "  Downloading setuptools-69.5.1-py3-none-any.whl.metadata (6.2 kB)\n",
      "Requirement already satisfied: wheel in /opt/anaconda3/lib/python3.11/site-packages (0.41.2)\n",
      "Collecting wheel\n",
      "  Downloading wheel-0.43.0-py3-none-any.whl.metadata (2.2 kB)\n",
      "Downloading setuptools-69.5.1-py3-none-any.whl (894 kB)\n",
      "\u001b[2K   \u001b[90m━━━━━━━━━━━━━━━━━━━━━━━━━━━━━━━━━━━━━━━━\u001b[0m \u001b[32m894.6/894.6 kB\u001b[0m \u001b[31m9.1 MB/s\u001b[0m eta \u001b[36m0:00:00\u001b[0ma \u001b[36m0:00:01\u001b[0m\n",
      "\u001b[?25hDownloading wheel-0.43.0-py3-none-any.whl (65 kB)\n",
      "\u001b[2K   \u001b[90m━━━━━━━━━━━━━━━━━━━━━━━━━━━━━━━━━━━━━━━━\u001b[0m \u001b[32m65.8/65.8 kB\u001b[0m \u001b[31m5.3 MB/s\u001b[0m eta \u001b[36m0:00:00\u001b[0m\n",
      "\u001b[?25hInstalling collected packages: wheel, setuptools\n",
      "  Attempting uninstall: wheel\n",
      "    Found existing installation: wheel 0.41.2\n",
      "    Uninstalling wheel-0.41.2:\n",
      "      Successfully uninstalled wheel-0.41.2\n",
      "  Attempting uninstall: setuptools\n",
      "    Found existing installation: setuptools 68.2.2\n",
      "    Uninstalling setuptools-68.2.2:\n",
      "      Successfully uninstalled setuptools-68.2.2\n",
      "\u001b[31mERROR: pip's dependency resolver does not currently take into account all the packages that are installed. This behaviour is the source of the following dependency conflicts.\n",
      "conda-repo-cli 1.0.75 requires requests_mock, which is not installed.\n",
      "conda-repo-cli 1.0.75 requires clyent==1.2.1, but you have clyent 1.2.2 which is incompatible.\u001b[0m\u001b[31m\n",
      "\u001b[0mSuccessfully installed setuptools-69.5.1 wheel-0.43.0\n",
      "Note: you may need to restart the kernel to use updated packages.\n"
     ]
    }
   ],
   "source": [
    "pip install -U pip setuptools wheel"
   ]
  },
  {
   "cell_type": "code",
   "execution_count": 6,
   "metadata": {
    "scrolled": true
   },
   "outputs": [
    {
     "name": "stdout",
     "output_type": "stream",
     "text": [
      "Requirement already satisfied: spacy in /opt/anaconda3/lib/python3.11/site-packages (3.7.4)\n",
      "Requirement already satisfied: spacy-legacy<3.1.0,>=3.0.11 in /opt/anaconda3/lib/python3.11/site-packages (from spacy) (3.0.12)\n",
      "Requirement already satisfied: spacy-loggers<2.0.0,>=1.0.0 in /opt/anaconda3/lib/python3.11/site-packages (from spacy) (1.0.5)\n",
      "Requirement already satisfied: murmurhash<1.1.0,>=0.28.0 in /opt/anaconda3/lib/python3.11/site-packages (from spacy) (1.0.10)\n",
      "Requirement already satisfied: cymem<2.1.0,>=2.0.2 in /opt/anaconda3/lib/python3.11/site-packages (from spacy) (2.0.8)\n",
      "Requirement already satisfied: preshed<3.1.0,>=3.0.2 in /opt/anaconda3/lib/python3.11/site-packages (from spacy) (3.0.9)\n",
      "Requirement already satisfied: thinc<8.3.0,>=8.2.2 in /opt/anaconda3/lib/python3.11/site-packages (from spacy) (8.2.3)\n",
      "Requirement already satisfied: wasabi<1.2.0,>=0.9.1 in /opt/anaconda3/lib/python3.11/site-packages (from spacy) (1.1.2)\n",
      "Requirement already satisfied: srsly<3.0.0,>=2.4.3 in /opt/anaconda3/lib/python3.11/site-packages (from spacy) (2.4.8)\n",
      "Requirement already satisfied: catalogue<2.1.0,>=2.0.6 in /opt/anaconda3/lib/python3.11/site-packages (from spacy) (2.0.10)\n",
      "Requirement already satisfied: weasel<0.4.0,>=0.1.0 in /opt/anaconda3/lib/python3.11/site-packages (from spacy) (0.3.4)\n",
      "Requirement already satisfied: typer<0.10.0,>=0.3.0 in /opt/anaconda3/lib/python3.11/site-packages (from spacy) (0.9.4)\n",
      "Requirement already satisfied: smart-open<7.0.0,>=5.2.1 in /opt/anaconda3/lib/python3.11/site-packages (from spacy) (5.2.1)\n",
      "Requirement already satisfied: tqdm<5.0.0,>=4.38.0 in /opt/anaconda3/lib/python3.11/site-packages (from spacy) (4.65.0)\n",
      "Requirement already satisfied: requests<3.0.0,>=2.13.0 in /opt/anaconda3/lib/python3.11/site-packages (from spacy) (2.31.0)\n",
      "Requirement already satisfied: pydantic!=1.8,!=1.8.1,<3.0.0,>=1.7.4 in /opt/anaconda3/lib/python3.11/site-packages (from spacy) (1.10.12)\n",
      "Requirement already satisfied: jinja2 in /opt/anaconda3/lib/python3.11/site-packages (from spacy) (3.1.3)\n",
      "Requirement already satisfied: setuptools in /opt/anaconda3/lib/python3.11/site-packages (from spacy) (69.5.1)\n",
      "Requirement already satisfied: packaging>=20.0 in /opt/anaconda3/lib/python3.11/site-packages (from spacy) (23.1)\n",
      "Requirement already satisfied: langcodes<4.0.0,>=3.2.0 in /opt/anaconda3/lib/python3.11/site-packages (from spacy) (3.3.0)\n",
      "Requirement already satisfied: numpy>=1.19.0 in /opt/anaconda3/lib/python3.11/site-packages (from spacy) (1.26.4)\n",
      "Requirement already satisfied: typing-extensions>=4.2.0 in /opt/anaconda3/lib/python3.11/site-packages (from pydantic!=1.8,!=1.8.1,<3.0.0,>=1.7.4->spacy) (4.9.0)\n",
      "Requirement already satisfied: charset-normalizer<4,>=2 in /opt/anaconda3/lib/python3.11/site-packages (from requests<3.0.0,>=2.13.0->spacy) (2.0.4)\n",
      "Requirement already satisfied: idna<4,>=2.5 in /opt/anaconda3/lib/python3.11/site-packages (from requests<3.0.0,>=2.13.0->spacy) (3.4)\n",
      "Requirement already satisfied: urllib3<3,>=1.21.1 in /opt/anaconda3/lib/python3.11/site-packages (from requests<3.0.0,>=2.13.0->spacy) (2.0.7)\n",
      "Requirement already satisfied: certifi>=2017.4.17 in /opt/anaconda3/lib/python3.11/site-packages (from requests<3.0.0,>=2.13.0->spacy) (2024.2.2)\n",
      "Requirement already satisfied: blis<0.8.0,>=0.7.8 in /opt/anaconda3/lib/python3.11/site-packages (from thinc<8.3.0,>=8.2.2->spacy) (0.7.11)\n",
      "Requirement already satisfied: confection<1.0.0,>=0.0.1 in /opt/anaconda3/lib/python3.11/site-packages (from thinc<8.3.0,>=8.2.2->spacy) (0.1.4)\n",
      "Requirement already satisfied: click<9.0.0,>=7.1.1 in /opt/anaconda3/lib/python3.11/site-packages (from typer<0.10.0,>=0.3.0->spacy) (8.1.7)\n",
      "Requirement already satisfied: cloudpathlib<0.17.0,>=0.7.0 in /opt/anaconda3/lib/python3.11/site-packages (from weasel<0.4.0,>=0.1.0->spacy) (0.16.0)\n",
      "Requirement already satisfied: MarkupSafe>=2.0 in /opt/anaconda3/lib/python3.11/site-packages (from jinja2->spacy) (2.1.3)\n",
      "Note: you may need to restart the kernel to use updated packages.\n"
     ]
    }
   ],
   "source": [
    "pip install -U spacy"
   ]
  },
  {
   "cell_type": "code",
   "execution_count": 7,
   "metadata": {
    "scrolled": true
   },
   "outputs": [
    {
     "name": "stdout",
     "output_type": "stream",
     "text": [
      "Collecting en-core-web-sm==3.7.1\n",
      "  Downloading https://github.com/explosion/spacy-models/releases/download/en_core_web_sm-3.7.1/en_core_web_sm-3.7.1-py3-none-any.whl (12.8 MB)\n",
      "\u001b[2K     \u001b[90m━━━━━━━━━━━━━━━━━━━━━━━━━━━━━━━━━━━━━━━━\u001b[0m \u001b[32m12.8/12.8 MB\u001b[0m \u001b[31m13.3 MB/s\u001b[0m eta \u001b[36m0:00:00\u001b[0m00:01\u001b[0m00:01\u001b[0m\n",
      "\u001b[?25hRequirement already satisfied: spacy<3.8.0,>=3.7.2 in /opt/anaconda3/lib/python3.11/site-packages (from en-core-web-sm==3.7.1) (3.7.4)\n",
      "Requirement already satisfied: spacy-legacy<3.1.0,>=3.0.11 in /opt/anaconda3/lib/python3.11/site-packages (from spacy<3.8.0,>=3.7.2->en-core-web-sm==3.7.1) (3.0.12)\n",
      "Requirement already satisfied: spacy-loggers<2.0.0,>=1.0.0 in /opt/anaconda3/lib/python3.11/site-packages (from spacy<3.8.0,>=3.7.2->en-core-web-sm==3.7.1) (1.0.5)\n",
      "Requirement already satisfied: murmurhash<1.1.0,>=0.28.0 in /opt/anaconda3/lib/python3.11/site-packages (from spacy<3.8.0,>=3.7.2->en-core-web-sm==3.7.1) (1.0.10)\n",
      "Requirement already satisfied: cymem<2.1.0,>=2.0.2 in /opt/anaconda3/lib/python3.11/site-packages (from spacy<3.8.0,>=3.7.2->en-core-web-sm==3.7.1) (2.0.8)\n",
      "Requirement already satisfied: preshed<3.1.0,>=3.0.2 in /opt/anaconda3/lib/python3.11/site-packages (from spacy<3.8.0,>=3.7.2->en-core-web-sm==3.7.1) (3.0.9)\n",
      "Requirement already satisfied: thinc<8.3.0,>=8.2.2 in /opt/anaconda3/lib/python3.11/site-packages (from spacy<3.8.0,>=3.7.2->en-core-web-sm==3.7.1) (8.2.3)\n",
      "Requirement already satisfied: wasabi<1.2.0,>=0.9.1 in /opt/anaconda3/lib/python3.11/site-packages (from spacy<3.8.0,>=3.7.2->en-core-web-sm==3.7.1) (1.1.2)\n",
      "Requirement already satisfied: srsly<3.0.0,>=2.4.3 in /opt/anaconda3/lib/python3.11/site-packages (from spacy<3.8.0,>=3.7.2->en-core-web-sm==3.7.1) (2.4.8)\n",
      "Requirement already satisfied: catalogue<2.1.0,>=2.0.6 in /opt/anaconda3/lib/python3.11/site-packages (from spacy<3.8.0,>=3.7.2->en-core-web-sm==3.7.1) (2.0.10)\n",
      "Requirement already satisfied: weasel<0.4.0,>=0.1.0 in /opt/anaconda3/lib/python3.11/site-packages (from spacy<3.8.0,>=3.7.2->en-core-web-sm==3.7.1) (0.3.4)\n",
      "Requirement already satisfied: typer<0.10.0,>=0.3.0 in /opt/anaconda3/lib/python3.11/site-packages (from spacy<3.8.0,>=3.7.2->en-core-web-sm==3.7.1) (0.9.4)\n",
      "Requirement already satisfied: smart-open<7.0.0,>=5.2.1 in /opt/anaconda3/lib/python3.11/site-packages (from spacy<3.8.0,>=3.7.2->en-core-web-sm==3.7.1) (5.2.1)\n",
      "Requirement already satisfied: tqdm<5.0.0,>=4.38.0 in /opt/anaconda3/lib/python3.11/site-packages (from spacy<3.8.0,>=3.7.2->en-core-web-sm==3.7.1) (4.65.0)\n",
      "Requirement already satisfied: requests<3.0.0,>=2.13.0 in /opt/anaconda3/lib/python3.11/site-packages (from spacy<3.8.0,>=3.7.2->en-core-web-sm==3.7.1) (2.31.0)\n",
      "Requirement already satisfied: pydantic!=1.8,!=1.8.1,<3.0.0,>=1.7.4 in /opt/anaconda3/lib/python3.11/site-packages (from spacy<3.8.0,>=3.7.2->en-core-web-sm==3.7.1) (1.10.12)\n",
      "Requirement already satisfied: jinja2 in /opt/anaconda3/lib/python3.11/site-packages (from spacy<3.8.0,>=3.7.2->en-core-web-sm==3.7.1) (3.1.3)\n",
      "Requirement already satisfied: setuptools in /opt/anaconda3/lib/python3.11/site-packages (from spacy<3.8.0,>=3.7.2->en-core-web-sm==3.7.1) (69.5.1)\n",
      "Requirement already satisfied: packaging>=20.0 in /opt/anaconda3/lib/python3.11/site-packages (from spacy<3.8.0,>=3.7.2->en-core-web-sm==3.7.1) (23.1)\n",
      "Requirement already satisfied: langcodes<4.0.0,>=3.2.0 in /opt/anaconda3/lib/python3.11/site-packages (from spacy<3.8.0,>=3.7.2->en-core-web-sm==3.7.1) (3.3.0)\n",
      "Requirement already satisfied: numpy>=1.19.0 in /opt/anaconda3/lib/python3.11/site-packages (from spacy<3.8.0,>=3.7.2->en-core-web-sm==3.7.1) (1.26.4)\n",
      "Requirement already satisfied: typing-extensions>=4.2.0 in /opt/anaconda3/lib/python3.11/site-packages (from pydantic!=1.8,!=1.8.1,<3.0.0,>=1.7.4->spacy<3.8.0,>=3.7.2->en-core-web-sm==3.7.1) (4.9.0)\n",
      "Requirement already satisfied: charset-normalizer<4,>=2 in /opt/anaconda3/lib/python3.11/site-packages (from requests<3.0.0,>=2.13.0->spacy<3.8.0,>=3.7.2->en-core-web-sm==3.7.1) (2.0.4)\n",
      "Requirement already satisfied: idna<4,>=2.5 in /opt/anaconda3/lib/python3.11/site-packages (from requests<3.0.0,>=2.13.0->spacy<3.8.0,>=3.7.2->en-core-web-sm==3.7.1) (3.4)\n",
      "Requirement already satisfied: urllib3<3,>=1.21.1 in /opt/anaconda3/lib/python3.11/site-packages (from requests<3.0.0,>=2.13.0->spacy<3.8.0,>=3.7.2->en-core-web-sm==3.7.1) (2.0.7)\n",
      "Requirement already satisfied: certifi>=2017.4.17 in /opt/anaconda3/lib/python3.11/site-packages (from requests<3.0.0,>=2.13.0->spacy<3.8.0,>=3.7.2->en-core-web-sm==3.7.1) (2024.2.2)\n",
      "Requirement already satisfied: blis<0.8.0,>=0.7.8 in /opt/anaconda3/lib/python3.11/site-packages (from thinc<8.3.0,>=8.2.2->spacy<3.8.0,>=3.7.2->en-core-web-sm==3.7.1) (0.7.11)\n",
      "Requirement already satisfied: confection<1.0.0,>=0.0.1 in /opt/anaconda3/lib/python3.11/site-packages (from thinc<8.3.0,>=8.2.2->spacy<3.8.0,>=3.7.2->en-core-web-sm==3.7.1) (0.1.4)\n",
      "Requirement already satisfied: click<9.0.0,>=7.1.1 in /opt/anaconda3/lib/python3.11/site-packages (from typer<0.10.0,>=0.3.0->spacy<3.8.0,>=3.7.2->en-core-web-sm==3.7.1) (8.1.7)\n",
      "Requirement already satisfied: cloudpathlib<0.17.0,>=0.7.0 in /opt/anaconda3/lib/python3.11/site-packages (from weasel<0.4.0,>=0.1.0->spacy<3.8.0,>=3.7.2->en-core-web-sm==3.7.1) (0.16.0)\n",
      "Requirement already satisfied: MarkupSafe>=2.0 in /opt/anaconda3/lib/python3.11/site-packages (from jinja2->spacy<3.8.0,>=3.7.2->en-core-web-sm==3.7.1) (2.1.3)\n",
      "Installing collected packages: en-core-web-sm\n",
      "Successfully installed en-core-web-sm-3.7.1\n",
      "\u001b[38;5;2m✔ Download and installation successful\u001b[0m\n",
      "You can now load the package via spacy.load('en_core_web_sm')\n"
     ]
    }
   ],
   "source": [
    "# Download the english model - Note: excludes word vectors\n",
    "!python -m spacy download en_core_web_sm\n",
    "\n",
    "# Import modules  \n",
    "import spacy\n",
    "from IPython.display import display, HTML\n",
    "import pandas as pd"
   ]
  },
  {
   "cell_type": "markdown",
   "metadata": {},
   "source": [
    "## AP News Article: \n",
    "## Israel, Iran play down apparent Israeli strike. The muted responses could calm tensions — for now\n",
    "https://apnews.com/article/iran-israel-mideast-tensions-4-19-2024-a7ccbae2e2844bab089e8e4377a24ddb"
   ]
  },
  {
   "cell_type": "code",
   "execution_count": 8,
   "metadata": {},
   "outputs": [],
   "source": [
    "article = ''' Israel and Iran on Friday both played down an apparent Israeli airstrike near a major air base and nuclear site in central Iran, signaling the two bitter enemies are ready to prevent their latest eruption of violence from escalating into a full-blown regional war.\n",
    "But the indecisive outcome of weeks of tensions — which included an alleged Israeli strike that killed two Iranian generals, an unprecedented Iranian missile barrage on Israel and the apparent Israeli strike early Friday in the heart of Iran — did little to resolve the deeper grievances between the foes and left the door open to further fighting.\n",
    "“It appears we’re closer than ever to a broad regional war, despite the fact that the international community will most likely make a great effort to de-escalate tensions,” wrote Amos Harel, the military-affairs commentator for the Israeli daily Haaretz.\n",
    "Israel has long considered Iran to be its greatest enemy — citing the Islamic Republic’s calls for Israel’s destruction, its controversial nuclear program and its support for hostile proxies across the Middle East.\n",
    "These tensions have risen since Hamas and Islamic Jihad, Iranian-backed Palestinian groups, attacked Israel on Oct. 7, sparking a devastating Israeli offensive in Gaza that has continued for more than six months. Hezbollah, an Iranian-backed proxy in Lebanon, immediately began striking Israeli targets, opening up tit-for-tat fighting along a second front, while Iranian-backed militias in Iraq, Syria and Yemen have also fired missiles and drones at Israel throughout the war.\n",
    "While Israel and Iran have waged a shadow war for years, mostly in neighboring Syria, they have largely avoided direct confrontations. That changed after an April 1 airstrike killed two Iranian generals at an Iranian diplomatic compound in the Syrian capital of Damascus. Although Israel did not comment, Iran blamed Israel for the strike and vowed revenge.\n",
    "Iran responded with its first-ever direct attack on Israel, launching over 300 missiles and attack drones late Saturday night. Israel, working with a U.S.-led international coalition, said it intercepted 99% of the incoming fire, though a handful of missiles managed to land, causing minor damage to an Israeli military base and seriously wounding a young girl.\n",
    "In Friday’s attack, Iranian state television said that air defense batteries fired in several provinces over reports of drones in the air. Iranian army commander Gen. Abdolrahim Mousavi said crews targeted several flying objects.\n",
    "“The explosion this morning in the sky of Isfahan was related to the shooting of air defense systems at a suspicious object that did not cause any damage,” Mousavi said.\n",
    "Authorities said air defenses fired at a major air base near Isfahan, which long has been home to Iran’s fleet of American-made F-14 Tomcats — purchased before the 1979 Islamic Revolution.\n",
    "Isfahan also is home to sites associated with Iran’s nuclear program, including its underground Natanz enrichment site, which has been repeatedly targeted by suspected Israeli sabotage attacks. The apparent attack Friday came on Iranian Supreme Leader Ayatollah Ali Khamenei’s 85th birthday.\n",
    "State television described all Iranian atomic sites in the areas as “fully safe.” The United Nations’ nuclear watchdog, the International Atomic Energy Agency, also said there was “no damage” to Iran’s nuclear sites.\n",
    "Iranian officials made no mention of possible Israeli involvement. That could be intentional, particularly after Iranian officials for days have been threatening to respond to any Israeli retaliatory attack.\n",
    "Israel also had no comment on the apparent attack, though one hard-line government minister, Itamar Ben-Gvir, hinted at his dissatisfaction, with a one-word tweet early Friday, using a slang word for weak or lame.\n",
    "But Italy’s foreign minister, Antonio Tajani, said at a summit of Western leaders in Capri that the U.S. received “last-minute” information from Israel about the attack. U.S. Secretary of State Antony Blinken did not dispute that, but said: “We were not involved in any offensive operations.”\n",
    "Yoel Guzansky, a former Iran expert in the Israeli prime minister’s office, said Israel appears to have carried out the attack to “check off a box” by sending a message to Iran without doing anything too provocative that could upset the United States, which had urged restraint, or spark further Iranian retaliation.\n",
    "“It seems very limited, to send a message that ‘we can strike you inside of Iran,’” said Guzansky a senior researcher at the Institute for National Security Studies, a Tel Aviv think tank.\n",
    "He said “the current round” of violence appears to be over, but that “nothing has changed” with Israel still facing Iranian-backed threats on various fronts.\n",
    "“I see further rounds,” he said. And the next time, if Iran surprises Israel or allies don’t assist in Israel’s defense, “the outcome will be different.”\n",
    "U.N. Secretary-General Antonio Guterres called for an end to the strikes.\n",
    "“It is high time to stop the dangerous cycle of retaliation in the Middle East,” his office said.\n",
    "Charles Lister, a senior fellow at the Washington-based Middle East Institute and a longtime regional analyst, challenged Iran’s claims that drones carried out the attacks. It appears instead that a small number of Israeli aircraft flew from Israel over Syria — striking at least two southern Syria military bases that have air defense systems along the way, he said.\n",
    "They then entered Iraqi airspace, from where they fired a small number of Blue Sparrow air-to-surface ballistic missiles, likely without ever entering Iranian airspace, Lister said.\n",
    "Accounts of explosions over Iraq support that scenario, and so does debris from what appears to be the booster of an Israeli-made Blue Sparrow missile that Iraqi security found in a field outside Baghdad, Lister said.\n",
    "“In other words, the Israelis would never have needed to enter Iranian airspace to conduct this attack,” Lister said. “I think this was Israel’s way of just sending a message that we can reach you anywhere we want.”\n",
    "If this latest round subsides, Israel can now return its focus to its ongoing war in Gaza and the simmering fighting with Hezbollah. With neither of those fronts letting up, the risk of further run-ins with Iran remains high, though neither side appears eager after Friday’s apparent Israeli attack.\n",
    "“Neither side is ready to jump over the brink,” said Alex Vatanka, director of the Iran program at the Middle East Institute. But he added a major caveat.\n",
    "“Probably we’re going to go back to the proxy war, “ he said, but now it’s a proxy war with the risk of “that sudden eruption of state-to-state war. Which we didn’t have to worry about before.” '''"
   ]
  },
  {
   "cell_type": "markdown",
   "metadata": {},
   "source": [
    "## Process the Article"
   ]
  },
  {
   "cell_type": "code",
   "execution_count": 11,
   "metadata": {},
   "outputs": [],
   "source": [
    "# download model\n",
    "nlp = spacy.load(\"en_core_web_sm\")\n",
    "\n",
    "# Process the text\n",
    "doc = nlp(article)"
   ]
  },
  {
   "cell_type": "markdown",
   "metadata": {},
   "source": [
    "# 1. Show the most common words in the article."
   ]
  },
  {
   "cell_type": "code",
   "execution_count": 30,
   "metadata": {
    "scrolled": true
   },
   "outputs": [
    {
     "data": {
      "text/html": [
       "<div>\n",
       "<style scoped>\n",
       "    .dataframe tbody tr th:only-of-type {\n",
       "        vertical-align: middle;\n",
       "    }\n",
       "\n",
       "    .dataframe tbody tr th {\n",
       "        vertical-align: top;\n",
       "    }\n",
       "\n",
       "    .dataframe thead th {\n",
       "        text-align: right;\n",
       "    }\n",
       "</style>\n",
       "<table border=\"1\" class=\"dataframe\">\n",
       "  <thead>\n",
       "    <tr style=\"text-align: right;\">\n",
       "      <th></th>\n",
       "      <th>Word</th>\n",
       "      <th>Frequency</th>\n",
       "    </tr>\n",
       "  </thead>\n",
       "  <tbody>\n",
       "    <tr>\n",
       "      <th>0</th>\n",
       "      <td>the</td>\n",
       "      <td>51</td>\n",
       "    </tr>\n",
       "    <tr>\n",
       "      <th>1</th>\n",
       "      <td>to</td>\n",
       "      <td>31</td>\n",
       "    </tr>\n",
       "    <tr>\n",
       "      <th>2</th>\n",
       "      <td>a</td>\n",
       "      <td>29</td>\n",
       "    </tr>\n",
       "    <tr>\n",
       "      <th>3</th>\n",
       "      <td>of</td>\n",
       "      <td>27</td>\n",
       "    </tr>\n",
       "    <tr>\n",
       "      <th>4</th>\n",
       "      <td>in</td>\n",
       "      <td>20</td>\n",
       "    </tr>\n",
       "    <tr>\n",
       "      <th>5</th>\n",
       "      <td>israel</td>\n",
       "      <td>20</td>\n",
       "    </tr>\n",
       "    <tr>\n",
       "      <th>6</th>\n",
       "      <td>that</td>\n",
       "      <td>19</td>\n",
       "    </tr>\n",
       "    <tr>\n",
       "      <th>7</th>\n",
       "      <td>said</td>\n",
       "      <td>19</td>\n",
       "    </tr>\n",
       "    <tr>\n",
       "      <th>8</th>\n",
       "      <td>iranian</td>\n",
       "      <td>17</td>\n",
       "    </tr>\n",
       "    <tr>\n",
       "      <th>9</th>\n",
       "      <td>iran</td>\n",
       "      <td>17</td>\n",
       "    </tr>\n",
       "    <tr>\n",
       "      <th>10</th>\n",
       "      <td>and</td>\n",
       "      <td>16</td>\n",
       "    </tr>\n",
       "    <tr>\n",
       "      <th>11</th>\n",
       "      <td>israeli</td>\n",
       "      <td>14</td>\n",
       "    </tr>\n",
       "    <tr>\n",
       "      <th>12</th>\n",
       "      <td>for</td>\n",
       "      <td>11</td>\n",
       "    </tr>\n",
       "    <tr>\n",
       "      <th>13</th>\n",
       "      <td>at</td>\n",
       "      <td>10</td>\n",
       "    </tr>\n",
       "    <tr>\n",
       "      <th>14</th>\n",
       "      <td>attack</td>\n",
       "      <td>10</td>\n",
       "    </tr>\n",
       "    <tr>\n",
       "      <th>15</th>\n",
       "      <td>an</td>\n",
       "      <td>9</td>\n",
       "    </tr>\n",
       "    <tr>\n",
       "      <th>16</th>\n",
       "      <td>have</td>\n",
       "      <td>9</td>\n",
       "    </tr>\n",
       "    <tr>\n",
       "      <th>17</th>\n",
       "      <td>with</td>\n",
       "      <td>9</td>\n",
       "    </tr>\n",
       "    <tr>\n",
       "      <th>18</th>\n",
       "      <td>war</td>\n",
       "      <td>8</td>\n",
       "    </tr>\n",
       "    <tr>\n",
       "      <th>19</th>\n",
       "      <td>air</td>\n",
       "      <td>8</td>\n",
       "    </tr>\n",
       "  </tbody>\n",
       "</table>\n",
       "</div>"
      ],
      "text/plain": [
       "       Word  Frequency\n",
       "0       the         51\n",
       "1        to         31\n",
       "2         a         29\n",
       "3        of         27\n",
       "4        in         20\n",
       "5    israel         20\n",
       "6      that         19\n",
       "7      said         19\n",
       "8   iranian         17\n",
       "9      iran         17\n",
       "10      and         16\n",
       "11  israeli         14\n",
       "12      for         11\n",
       "13       at         10\n",
       "14   attack         10\n",
       "15       an          9\n",
       "16     have          9\n",
       "17     with          9\n",
       "18      war          8\n",
       "19      air          8"
      ]
     },
     "execution_count": 30,
     "metadata": {},
     "output_type": "execute_result"
    }
   ],
   "source": [
    "# Extract words and filter out punctuation and whitespace\n",
    "words = [token.text.lower() for token in doc if token.is_alpha]\n",
    "word_freq = Counter(words)\n",
    "\n",
    "# Create a DataFrame from the word frequencies\n",
    "df = pd.DataFrame(word_freq.items(), columns=['Word', 'Frequency'])\n",
    "\n",
    "# Sort the DataFrame by frequency in descending order\n",
    "df = df.sort_values(by='Frequency', ascending=False).reset_index(drop=True)\n",
    "\n",
    "df.head(20)"
   ]
  },
  {
   "cell_type": "markdown",
   "metadata": {},
   "source": [
    "# 2. Show the most common words under a part of speech. \n",
    "(i.e. NOUN: {'Bob':12, 'Alice':4,})"
   ]
  },
  {
   "cell_type": "code",
   "execution_count": 29,
   "metadata": {
    "scrolled": true
   },
   "outputs": [
    {
     "data": {
      "text/html": [
       "<div>\n",
       "<style scoped>\n",
       "    .dataframe tbody tr th:only-of-type {\n",
       "        vertical-align: middle;\n",
       "    }\n",
       "\n",
       "    .dataframe tbody tr th {\n",
       "        vertical-align: top;\n",
       "    }\n",
       "\n",
       "    .dataframe thead th {\n",
       "        text-align: right;\n",
       "    }\n",
       "</style>\n",
       "<table border=\"1\" class=\"dataframe\">\n",
       "  <thead>\n",
       "    <tr style=\"text-align: right;\">\n",
       "      <th></th>\n",
       "      <th>POS</th>\n",
       "      <th>Word</th>\n",
       "      <th>Frequency</th>\n",
       "    </tr>\n",
       "  </thead>\n",
       "  <tbody>\n",
       "    <tr>\n",
       "      <th>0</th>\n",
       "      <td>DET</td>\n",
       "      <td>the</td>\n",
       "      <td>51</td>\n",
       "    </tr>\n",
       "    <tr>\n",
       "      <th>1</th>\n",
       "      <td>DET</td>\n",
       "      <td>a</td>\n",
       "      <td>29</td>\n",
       "    </tr>\n",
       "    <tr>\n",
       "      <th>2</th>\n",
       "      <td>ADP</td>\n",
       "      <td>of</td>\n",
       "      <td>27</td>\n",
       "    </tr>\n",
       "    <tr>\n",
       "      <th>3</th>\n",
       "      <td>PROPN</td>\n",
       "      <td>israel</td>\n",
       "      <td>20</td>\n",
       "    </tr>\n",
       "    <tr>\n",
       "      <th>4</th>\n",
       "      <td>ADP</td>\n",
       "      <td>in</td>\n",
       "      <td>20</td>\n",
       "    </tr>\n",
       "    <tr>\n",
       "      <th>5</th>\n",
       "      <td>VERB</td>\n",
       "      <td>said</td>\n",
       "      <td>19</td>\n",
       "    </tr>\n",
       "    <tr>\n",
       "      <th>6</th>\n",
       "      <td>PROPN</td>\n",
       "      <td>iran</td>\n",
       "      <td>17</td>\n",
       "    </tr>\n",
       "    <tr>\n",
       "      <th>7</th>\n",
       "      <td>PART</td>\n",
       "      <td>to</td>\n",
       "      <td>16</td>\n",
       "    </tr>\n",
       "    <tr>\n",
       "      <th>8</th>\n",
       "      <td>CCONJ</td>\n",
       "      <td>and</td>\n",
       "      <td>16</td>\n",
       "    </tr>\n",
       "    <tr>\n",
       "      <th>9</th>\n",
       "      <td>ADP</td>\n",
       "      <td>to</td>\n",
       "      <td>14</td>\n",
       "    </tr>\n",
       "    <tr>\n",
       "      <th>10</th>\n",
       "      <td>ADJ</td>\n",
       "      <td>iranian</td>\n",
       "      <td>13</td>\n",
       "    </tr>\n",
       "    <tr>\n",
       "      <th>11</th>\n",
       "      <td>ADJ</td>\n",
       "      <td>israeli</td>\n",
       "      <td>13</td>\n",
       "    </tr>\n",
       "    <tr>\n",
       "      <th>12</th>\n",
       "      <td>ADP</td>\n",
       "      <td>for</td>\n",
       "      <td>11</td>\n",
       "    </tr>\n",
       "    <tr>\n",
       "      <th>13</th>\n",
       "      <td>PRON</td>\n",
       "      <td>that</td>\n",
       "      <td>10</td>\n",
       "    </tr>\n",
       "    <tr>\n",
       "      <th>14</th>\n",
       "      <td>NOUN</td>\n",
       "      <td>attack</td>\n",
       "      <td>10</td>\n",
       "    </tr>\n",
       "    <tr>\n",
       "      <th>15</th>\n",
       "      <td>ADP</td>\n",
       "      <td>at</td>\n",
       "      <td>9</td>\n",
       "    </tr>\n",
       "    <tr>\n",
       "      <th>16</th>\n",
       "      <td>DET</td>\n",
       "      <td>an</td>\n",
       "      <td>9</td>\n",
       "    </tr>\n",
       "    <tr>\n",
       "      <th>17</th>\n",
       "      <td>NOUN</td>\n",
       "      <td>air</td>\n",
       "      <td>8</td>\n",
       "    </tr>\n",
       "    <tr>\n",
       "      <th>18</th>\n",
       "      <td>NOUN</td>\n",
       "      <td>war</td>\n",
       "      <td>8</td>\n",
       "    </tr>\n",
       "    <tr>\n",
       "      <th>19</th>\n",
       "      <td>AUX</td>\n",
       "      <td>have</td>\n",
       "      <td>7</td>\n",
       "    </tr>\n",
       "    <tr>\n",
       "      <th>20</th>\n",
       "      <td>SCONJ</td>\n",
       "      <td>that</td>\n",
       "      <td>7</td>\n",
       "    </tr>\n",
       "    <tr>\n",
       "      <th>21</th>\n",
       "      <td>PRON</td>\n",
       "      <td>its</td>\n",
       "      <td>7</td>\n",
       "    </tr>\n",
       "    <tr>\n",
       "      <th>22</th>\n",
       "      <td>PRON</td>\n",
       "      <td>we</td>\n",
       "      <td>7</td>\n",
       "    </tr>\n",
       "    <tr>\n",
       "      <th>23</th>\n",
       "      <td>PRON</td>\n",
       "      <td>it</td>\n",
       "      <td>6</td>\n",
       "    </tr>\n",
       "    <tr>\n",
       "      <th>24</th>\n",
       "      <td>PROPN</td>\n",
       "      <td>friday</td>\n",
       "      <td>6</td>\n",
       "    </tr>\n",
       "    <tr>\n",
       "      <th>25</th>\n",
       "      <td>VERB</td>\n",
       "      <td>appears</td>\n",
       "      <td>6</td>\n",
       "    </tr>\n",
       "    <tr>\n",
       "      <th>26</th>\n",
       "      <td>CCONJ</td>\n",
       "      <td>but</td>\n",
       "      <td>6</td>\n",
       "    </tr>\n",
       "    <tr>\n",
       "      <th>27</th>\n",
       "      <td>ADJ</td>\n",
       "      <td>apparent</td>\n",
       "      <td>5</td>\n",
       "    </tr>\n",
       "    <tr>\n",
       "      <th>28</th>\n",
       "      <td>PRON</td>\n",
       "      <td>which</td>\n",
       "      <td>5</td>\n",
       "    </tr>\n",
       "    <tr>\n",
       "      <th>29</th>\n",
       "      <td>ADJ</td>\n",
       "      <td>nuclear</td>\n",
       "      <td>5</td>\n",
       "    </tr>\n",
       "    <tr>\n",
       "      <th>30</th>\n",
       "      <td>AUX</td>\n",
       "      <td>be</td>\n",
       "      <td>5</td>\n",
       "    </tr>\n",
       "    <tr>\n",
       "      <th>31</th>\n",
       "      <td>AUX</td>\n",
       "      <td>has</td>\n",
       "      <td>5</td>\n",
       "    </tr>\n",
       "    <tr>\n",
       "      <th>32</th>\n",
       "      <td>VERB</td>\n",
       "      <td>backed</td>\n",
       "      <td>4</td>\n",
       "    </tr>\n",
       "    <tr>\n",
       "      <th>33</th>\n",
       "      <td>VERB</td>\n",
       "      <td>fired</td>\n",
       "      <td>4</td>\n",
       "    </tr>\n",
       "    <tr>\n",
       "      <th>34</th>\n",
       "      <td>ADV</td>\n",
       "      <td>also</td>\n",
       "      <td>4</td>\n",
       "    </tr>\n",
       "    <tr>\n",
       "      <th>35</th>\n",
       "      <td>PART</td>\n",
       "      <td>not</td>\n",
       "      <td>4</td>\n",
       "    </tr>\n",
       "    <tr>\n",
       "      <th>36</th>\n",
       "      <td>AUX</td>\n",
       "      <td>did</td>\n",
       "      <td>4</td>\n",
       "    </tr>\n",
       "    <tr>\n",
       "      <th>37</th>\n",
       "      <td>PROPN</td>\n",
       "      <td>middle</td>\n",
       "      <td>4</td>\n",
       "    </tr>\n",
       "    <tr>\n",
       "      <th>38</th>\n",
       "      <td>ADJ</td>\n",
       "      <td>further</td>\n",
       "      <td>4</td>\n",
       "    </tr>\n",
       "    <tr>\n",
       "      <th>39</th>\n",
       "      <td>NUM</td>\n",
       "      <td>two</td>\n",
       "      <td>4</td>\n",
       "    </tr>\n",
       "    <tr>\n",
       "      <th>40</th>\n",
       "      <td>NOUN</td>\n",
       "      <td>drones</td>\n",
       "      <td>4</td>\n",
       "    </tr>\n",
       "    <tr>\n",
       "      <th>41</th>\n",
       "      <td>NOUN</td>\n",
       "      <td>missiles</td>\n",
       "      <td>4</td>\n",
       "    </tr>\n",
       "    <tr>\n",
       "      <th>42</th>\n",
       "      <td>PROPN</td>\n",
       "      <td>east</td>\n",
       "      <td>4</td>\n",
       "    </tr>\n",
       "    <tr>\n",
       "      <th>43</th>\n",
       "      <td>CCONJ</td>\n",
       "      <td>or</td>\n",
       "      <td>3</td>\n",
       "    </tr>\n",
       "    <tr>\n",
       "      <th>44</th>\n",
       "      <td>AUX</td>\n",
       "      <td>been</td>\n",
       "      <td>3</td>\n",
       "    </tr>\n",
       "    <tr>\n",
       "      <th>45</th>\n",
       "      <td>DET</td>\n",
       "      <td>any</td>\n",
       "      <td>3</td>\n",
       "    </tr>\n",
       "    <tr>\n",
       "      <th>46</th>\n",
       "      <td>DET</td>\n",
       "      <td>this</td>\n",
       "      <td>3</td>\n",
       "    </tr>\n",
       "    <tr>\n",
       "      <th>47</th>\n",
       "      <td>VERB</td>\n",
       "      <td>made</td>\n",
       "      <td>3</td>\n",
       "    </tr>\n",
       "    <tr>\n",
       "      <th>48</th>\n",
       "      <td>ADV</td>\n",
       "      <td>ever</td>\n",
       "      <td>3</td>\n",
       "    </tr>\n",
       "    <tr>\n",
       "      <th>49</th>\n",
       "      <td>SCONJ</td>\n",
       "      <td>though</td>\n",
       "      <td>3</td>\n",
       "    </tr>\n",
       "    <tr>\n",
       "      <th>50</th>\n",
       "      <td>SCONJ</td>\n",
       "      <td>after</td>\n",
       "      <td>2</td>\n",
       "    </tr>\n",
       "    <tr>\n",
       "      <th>51</th>\n",
       "      <td>SCONJ</td>\n",
       "      <td>while</td>\n",
       "      <td>2</td>\n",
       "    </tr>\n",
       "    <tr>\n",
       "      <th>52</th>\n",
       "      <td>SCONJ</td>\n",
       "      <td>if</td>\n",
       "      <td>2</td>\n",
       "    </tr>\n",
       "    <tr>\n",
       "      <th>53</th>\n",
       "      <td>ADV</td>\n",
       "      <td>now</td>\n",
       "      <td>2</td>\n",
       "    </tr>\n",
       "    <tr>\n",
       "      <th>54</th>\n",
       "      <td>ADV</td>\n",
       "      <td>long</td>\n",
       "      <td>2</td>\n",
       "    </tr>\n",
       "    <tr>\n",
       "      <th>55</th>\n",
       "      <td>NUM</td>\n",
       "      <td>one</td>\n",
       "      <td>2</td>\n",
       "    </tr>\n",
       "    <tr>\n",
       "      <th>56</th>\n",
       "      <td>ADV</td>\n",
       "      <td>full</td>\n",
       "      <td>1</td>\n",
       "    </tr>\n",
       "    <tr>\n",
       "      <th>57</th>\n",
       "      <td>CCONJ</td>\n",
       "      <td>both</td>\n",
       "      <td>1</td>\n",
       "    </tr>\n",
       "    <tr>\n",
       "      <th>58</th>\n",
       "      <td>NUM</td>\n",
       "      <td>six</td>\n",
       "      <td>1</td>\n",
       "    </tr>\n",
       "  </tbody>\n",
       "</table>\n",
       "</div>"
      ],
      "text/plain": [
       "      POS      Word  Frequency\n",
       "0     DET       the         51\n",
       "1     DET         a         29\n",
       "2     ADP        of         27\n",
       "3   PROPN    israel         20\n",
       "4     ADP        in         20\n",
       "5    VERB      said         19\n",
       "6   PROPN      iran         17\n",
       "7    PART        to         16\n",
       "8   CCONJ       and         16\n",
       "9     ADP        to         14\n",
       "10    ADJ   iranian         13\n",
       "11    ADJ   israeli         13\n",
       "12    ADP       for         11\n",
       "13   PRON      that         10\n",
       "14   NOUN    attack         10\n",
       "15    ADP        at          9\n",
       "16    DET        an          9\n",
       "17   NOUN       air          8\n",
       "18   NOUN       war          8\n",
       "19    AUX      have          7\n",
       "20  SCONJ      that          7\n",
       "21   PRON       its          7\n",
       "22   PRON        we          7\n",
       "23   PRON        it          6\n",
       "24  PROPN    friday          6\n",
       "25   VERB   appears          6\n",
       "26  CCONJ       but          6\n",
       "27    ADJ  apparent          5\n",
       "28   PRON     which          5\n",
       "29    ADJ   nuclear          5\n",
       "30    AUX        be          5\n",
       "31    AUX       has          5\n",
       "32   VERB    backed          4\n",
       "33   VERB     fired          4\n",
       "34    ADV      also          4\n",
       "35   PART       not          4\n",
       "36    AUX       did          4\n",
       "37  PROPN    middle          4\n",
       "38    ADJ   further          4\n",
       "39    NUM       two          4\n",
       "40   NOUN    drones          4\n",
       "41   NOUN  missiles          4\n",
       "42  PROPN      east          4\n",
       "43  CCONJ        or          3\n",
       "44    AUX      been          3\n",
       "45    DET       any          3\n",
       "46    DET      this          3\n",
       "47   VERB      made          3\n",
       "48    ADV      ever          3\n",
       "49  SCONJ    though          3\n",
       "50  SCONJ     after          2\n",
       "51  SCONJ     while          2\n",
       "52  SCONJ        if          2\n",
       "53    ADV       now          2\n",
       "54    ADV      long          2\n",
       "55    NUM       one          2\n",
       "56    ADV      full          1\n",
       "57  CCONJ      both          1\n",
       "58    NUM       six          1"
      ]
     },
     "execution_count": 29,
     "metadata": {},
     "output_type": "execute_result"
    }
   ],
   "source": [
    "# Initialize \n",
    "pos_words = {}\n",
    "data = []\n",
    "\n",
    "# filter/standardize for only alphabetic words \n",
    "for token in doc:\n",
    "    if token.is_alpha:  # Check if the token is alphabetic to avoid punctuation and numbers\n",
    "        if token.pos_ not in pos_words:\n",
    "            pos_words[token.pos_] = []\n",
    "        pos_words[token.pos_].append(token.text.lower())\n",
    "\n",
    "# get top 5 most common words wrt POS\n",
    "for pos, words in pos_words.items():\n",
    "    word_freq = Counter(words)\n",
    "    most_common_words = word_freq.most_common(5)  # Get only the top 5 common words\n",
    "    for word, freq in most_common_words:\n",
    "        data.append({'POS': pos, 'Word': word, 'Frequency': freq})\n",
    "\n",
    "# store values in a DataFrame \n",
    "df = pd.DataFrame(data)\n",
    "df = df.sort_values(by=['Frequency'], ascending=[False]).reset_index(drop=True)\n",
    "df"
   ]
  },
  {
   "cell_type": "markdown",
   "metadata": {},
   "source": [
    "# 3. Find a subject/object relationship through the dependency parser in any sentence."
   ]
  },
  {
   "cell_type": "code",
   "execution_count": 44,
   "metadata": {
    "scrolled": true
   },
   "outputs": [
    {
     "data": {
      "text/html": [
       "Subject: <b>Israel</b>  -  Verb: <b>played</b>  -  Direct Object: <b>airstrike</b>"
      ],
      "text/plain": [
       "<IPython.core.display.HTML object>"
      ]
     },
     "metadata": {},
     "output_type": "display_data"
    },
    {
     "data": {
      "text/html": [
       "Subject: <b>outcome</b>  -  Verb: <b>did</b>  -  Direct Object: <b>little</b>"
      ],
      "text/plain": [
       "<IPython.core.display.HTML object>"
      ]
     },
     "metadata": {},
     "output_type": "display_data"
    },
    {
     "data": {
      "text/html": [
       "Subject: <b>which</b>  -  Verb: <b>included</b>  -  Direct Object: <b>strike</b>"
      ],
      "text/plain": [
       "<IPython.core.display.HTML object>"
      ]
     },
     "metadata": {},
     "output_type": "display_data"
    },
    {
     "data": {
      "text/html": [
       "Subject: <b>that</b>  -  Verb: <b>killed</b>  -  Direct Object: <b>generals</b>"
      ],
      "text/plain": [
       "<IPython.core.display.HTML object>"
      ]
     },
     "metadata": {},
     "output_type": "display_data"
    },
    {
     "data": {
      "text/html": [
       "Subject: <b>community</b>  -  Verb: <b>make</b>  -  Direct Object: <b>effort</b>"
      ],
      "text/plain": [
       "<IPython.core.display.HTML object>"
      ]
     },
     "metadata": {},
     "output_type": "display_data"
    },
    {
     "data": {
      "text/html": [
       "Subject: <b>militias</b>  -  Verb: <b>fired</b>  -  Direct Object: <b>missiles</b>"
      ],
      "text/plain": [
       "<IPython.core.display.HTML object>"
      ]
     },
     "metadata": {},
     "output_type": "display_data"
    },
    {
     "data": {
      "text/html": [
       "Subject: <b>Israel</b>  -  Verb: <b>waged</b>  -  Direct Object: <b>war</b>"
      ],
      "text/plain": [
       "<IPython.core.display.HTML object>"
      ]
     },
     "metadata": {},
     "output_type": "display_data"
    },
    {
     "data": {
      "text/html": [
       "Subject: <b>they</b>  -  Verb: <b>avoided</b>  -  Direct Object: <b>confrontations</b>"
      ],
      "text/plain": [
       "<IPython.core.display.HTML object>"
      ]
     },
     "metadata": {},
     "output_type": "display_data"
    },
    {
     "data": {
      "text/html": [
       "Subject: <b>airstrike</b>  -  Verb: <b>killed</b>  -  Direct Object: <b>generals</b>"
      ],
      "text/plain": [
       "<IPython.core.display.HTML object>"
      ]
     },
     "metadata": {},
     "output_type": "display_data"
    },
    {
     "data": {
      "text/html": [
       "Subject: <b>Iran</b>  -  Verb: <b>blamed</b>  -  Direct Object: <b>Israel</b>"
      ],
      "text/plain": [
       "<IPython.core.display.HTML object>"
      ]
     },
     "metadata": {},
     "output_type": "display_data"
    },
    {
     "data": {
      "text/html": [
       "Subject: <b>it</b>  -  Verb: <b>intercepted</b>  -  Direct Object: <b>%</b>"
      ],
      "text/plain": [
       "<IPython.core.display.HTML object>"
      ]
     },
     "metadata": {},
     "output_type": "display_data"
    },
    {
     "data": {
      "text/html": [
       "Subject: <b>crews</b>  -  Verb: <b>targeted</b>  -  Direct Object: <b>objects</b>"
      ],
      "text/plain": [
       "<IPython.core.display.HTML object>"
      ]
     },
     "metadata": {},
     "output_type": "display_data"
    },
    {
     "data": {
      "text/html": [
       "Subject: <b>that</b>  -  Verb: <b>cause</b>  -  Direct Object: <b>damage</b>"
      ],
      "text/plain": [
       "<IPython.core.display.HTML object>"
      ]
     },
     "metadata": {},
     "output_type": "display_data"
    },
    {
     "data": {
      "text/html": [
       "Subject: <b>television</b>  -  Verb: <b>described</b>  -  Direct Object: <b>sites</b>"
      ],
      "text/plain": [
       "<IPython.core.display.HTML object>"
      ]
     },
     "metadata": {},
     "output_type": "display_data"
    },
    {
     "data": {
      "text/html": [
       "Subject: <b>officials</b>  -  Verb: <b>made</b>  -  Direct Object: <b>mention</b>"
      ],
      "text/plain": [
       "<IPython.core.display.HTML object>"
      ]
     },
     "metadata": {},
     "output_type": "display_data"
    },
    {
     "data": {
      "text/html": [
       "Subject: <b>Israel</b>  -  Verb: <b>had</b>  -  Direct Object: <b>comment</b>"
      ],
      "text/plain": [
       "<IPython.core.display.HTML object>"
      ]
     },
     "metadata": {},
     "output_type": "display_data"
    },
    {
     "data": {
      "text/html": [
       "Subject: <b>U.S.</b>  -  Verb: <b>received</b>  -  Direct Object: <b>information</b>"
      ],
      "text/plain": [
       "<IPython.core.display.HTML object>"
      ]
     },
     "metadata": {},
     "output_type": "display_data"
    },
    {
     "data": {
      "text/html": [
       "Subject: <b>Blinken</b>  -  Verb: <b>dispute</b>  -  Direct Object: <b>that</b>"
      ],
      "text/plain": [
       "<IPython.core.display.HTML object>"
      ]
     },
     "metadata": {},
     "output_type": "display_data"
    },
    {
     "data": {
      "text/html": [
       "Subject: <b>that</b>  -  Verb: <b>upset</b>  -  Direct Object: <b>States</b>"
      ],
      "text/plain": [
       "<IPython.core.display.HTML object>"
      ]
     },
     "metadata": {},
     "output_type": "display_data"
    },
    {
     "data": {
      "text/html": [
       "Subject: <b>which</b>  -  Verb: <b>urged</b>  -  Direct Object: <b>restraint</b>"
      ],
      "text/plain": [
       "<IPython.core.display.HTML object>"
      ]
     },
     "metadata": {},
     "output_type": "display_data"
    },
    {
     "data": {
      "text/html": [
       "Subject: <b>we</b>  -  Verb: <b>strike</b>  -  Direct Object: <b>you</b>"
      ],
      "text/plain": [
       "<IPython.core.display.HTML object>"
      ]
     },
     "metadata": {},
     "output_type": "display_data"
    },
    {
     "data": {
      "text/html": [
       "Subject: <b>Israel</b>  -  Verb: <b>facing</b>  -  Direct Object: <b>threats</b>"
      ],
      "text/plain": [
       "<IPython.core.display.HTML object>"
      ]
     },
     "metadata": {},
     "output_type": "display_data"
    },
    {
     "data": {
      "text/html": [
       "Subject: <b>I</b>  -  Verb: <b>see</b>  -  Direct Object: <b>rounds</b>"
      ],
      "text/plain": [
       "<IPython.core.display.HTML object>"
      ]
     },
     "metadata": {},
     "output_type": "display_data"
    },
    {
     "data": {
      "text/html": [
       "Subject: <b>Iran</b>  -  Verb: <b>surprises</b>  -  Direct Object: <b>Israel</b>"
      ],
      "text/plain": [
       "<IPython.core.display.HTML object>"
      ]
     },
     "metadata": {},
     "output_type": "display_data"
    },
    {
     "data": {
      "text/html": [
       "Subject: <b>Lister</b>  -  Verb: <b>challenged</b>  -  Direct Object: <b>claims</b>"
      ],
      "text/plain": [
       "<IPython.core.display.HTML object>"
      ]
     },
     "metadata": {},
     "output_type": "display_data"
    },
    {
     "data": {
      "text/html": [
       "Subject: <b>drones</b>  -  Verb: <b>carried</b>  -  Direct Object: <b>attacks</b>"
      ],
      "text/plain": [
       "<IPython.core.display.HTML object>"
      ]
     },
     "metadata": {},
     "output_type": "display_data"
    },
    {
     "data": {
      "text/html": [
       "Subject: <b>that</b>  -  Verb: <b>have</b>  -  Direct Object: <b>systems</b>"
      ],
      "text/plain": [
       "<IPython.core.display.HTML object>"
      ]
     },
     "metadata": {},
     "output_type": "display_data"
    },
    {
     "data": {
      "text/html": [
       "Subject: <b>They</b>  -  Verb: <b>entered</b>  -  Direct Object: <b>airspace</b>"
      ],
      "text/plain": [
       "<IPython.core.display.HTML object>"
      ]
     },
     "metadata": {},
     "output_type": "display_data"
    },
    {
     "data": {
      "text/html": [
       "Subject: <b>they</b>  -  Verb: <b>fired</b>  -  Direct Object: <b>number</b>"
      ],
      "text/plain": [
       "<IPython.core.display.HTML object>"
      ]
     },
     "metadata": {},
     "output_type": "display_data"
    },
    {
     "data": {
      "text/html": [
       "Subject: <b>Accounts</b>  -  Verb: <b>support</b>  -  Direct Object: <b>scenario</b>"
      ],
      "text/plain": [
       "<IPython.core.display.HTML object>"
      ]
     },
     "metadata": {},
     "output_type": "display_data"
    },
    {
     "data": {
      "text/html": [
       "Subject: <b>security</b>  -  Verb: <b>found</b>  -  Direct Object: <b>that</b>"
      ],
      "text/plain": [
       "<IPython.core.display.HTML object>"
      ]
     },
     "metadata": {},
     "output_type": "display_data"
    },
    {
     "data": {
      "text/html": [
       "Subject: <b>we</b>  -  Verb: <b>reach</b>  -  Direct Object: <b>you</b>"
      ],
      "text/plain": [
       "<IPython.core.display.HTML object>"
      ]
     },
     "metadata": {},
     "output_type": "display_data"
    },
    {
     "data": {
      "text/html": [
       "Subject: <b>Israel</b>  -  Verb: <b>return</b>  -  Direct Object: <b>focus</b>"
      ],
      "text/plain": [
       "<IPython.core.display.HTML object>"
      ]
     },
     "metadata": {},
     "output_type": "display_data"
    },
    {
     "data": {
      "text/html": [
       "Subject: <b>he</b>  -  Verb: <b>added</b>  -  Direct Object: <b>caveat</b>"
      ],
      "text/plain": [
       "<IPython.core.display.HTML object>"
      ]
     },
     "metadata": {},
     "output_type": "display_data"
    },
    {
     "data": {
      "text/html": [
       "Subject: <b>we</b>  -  Verb: <b>have</b>  -  Direct Object: <b>Which</b>"
      ],
      "text/plain": [
       "<IPython.core.display.HTML object>"
      ]
     },
     "metadata": {},
     "output_type": "display_data"
    }
   ],
   "source": [
    "# Find subject-object pairs\n",
    "from IPython.display import display, HTML\n",
    "\n",
    "for token in doc:\n",
    "    if token.dep_ == \"nsubj\":  # subject?\n",
    "        for child in token.head.children:  \n",
    "            if child.dep_ == \"dobj\":  # direct object?\n",
    "                #print(f\"Subject: {token.text}  -  Verb: {token.head.text}  -  Direct Object: {child.text}\")\n",
    "                display(HTML(f\"Subject: <b>{token.text}</b>  -  Verb: <b>{token.head.text}</b>  -  Direct Object: <b>{child.text}</b>\"))"
   ]
  },
  {
   "cell_type": "markdown",
   "metadata": {},
   "source": [
    "### Class code: Semi Holy Grail - Syntactic Dependency Parsing"
   ]
  },
  {
   "cell_type": "code",
   "execution_count": 37,
   "metadata": {},
   "outputs": [],
   "source": [
    "def pr_tree(word, level):\n",
    "    if word.is_punct:\n",
    "        return\n",
    "    for child in word.lefts:\n",
    "        pr_tree(child, level+1)\n",
    "    print('\\t'* level + word.text + ' - ' + word.dep_)\n",
    "    for child in word.rights:\n",
    "        pr_tree(child, level+1)"
   ]
  },
  {
   "cell_type": "code",
   "execution_count": 39,
   "metadata": {},
   "outputs": [
    {
     "name": "stdout",
     "output_type": "stream",
     "text": [
      "\t\t  - dep\n",
      "\tIsrael - nsubj\n",
      "\t\tand - cc\n",
      "\t\tIran - conj\n",
      "\t\ton - prep\n",
      "\t\t\tFriday - pobj\n",
      "\t\tboth - appos\n",
      "played - ROOT\n",
      "\tdown - prt\n",
      "\t\tan - det\n",
      "\t\tapparent - amod\n",
      "\t\tIsraeli - amod\n",
      "\tairstrike - dobj\n",
      "\t\tnear - prep\n",
      "\t\t\t\ta - det\n",
      "\t\t\t\tmajor - amod\n",
      "\t\t\t\tair - compound\n",
      "\t\t\tbase - pobj\n",
      "\t\t\t\tand - cc\n",
      "\t\t\t\t\tnuclear - amod\n",
      "\t\t\t\tsite - conj\n",
      "\t\t\t\tin - prep\n",
      "\t\t\t\t\t\tcentral - amod\n",
      "\t\t\t\t\tIran - pobj\n",
      "\t\tsignaling - csubj\n",
      "\t\t\t\tthe - det\n",
      "\t\t\t\ttwo - nummod\n",
      "\t\t\t\tbitter - amod\n",
      "\t\t\tenemies - dobj\n",
      "\tare - conj\n",
      "\t\tready - acomp\n",
      "\t\t\t\tto - aux\n",
      "\t\t\tprevent - xcomp\n",
      "\t\t\t\t\ttheir - poss\n",
      "\t\t\t\t\tlatest - amod\n",
      "\t\t\t\teruption - dobj\n",
      "\t\t\t\t\tof - prep\n",
      "\t\t\t\t\t\tviolence - pobj\n",
      "\t\t\t\tfrom - prep\n",
      "\t\t\t\t\tescalating - pcomp\n",
      "\t\t\t\t\t\tinto - prep\n",
      "\t\t\t\t\t\t\t\ta - det\n",
      "\t\t\t\t\t\t\t\t\tfull - advmod\n",
      "\t\t\t\t\t\t\t\tblown - amod\n",
      "\t\t\t\t\t\t\t\tregional - amod\n",
      "\t\t\t\t\t\t\twar - pobj\n",
      "---------------------------------------------------------------------------------------------\n",
      "\tBut - cc\n",
      "\t\tthe - det\n",
      "\t\tindecisive - amod\n",
      "\toutcome - nsubj\n",
      "\t\tof - prep\n",
      "\t\t\tweeks - pobj\n",
      "\t\t\t\tof - prep\n",
      "\t\t\t\t\ttensions - pobj\n",
      "\t\t\t\t\t\t\twhich - nsubj\n",
      "\t\t\t\t\t\tincluded - relcl\n",
      "\t\t\t\t\t\t\t\tan - det\n",
      "\t\t\t\t\t\t\t\talleged - amod\n",
      "\t\t\t\t\t\t\t\tIsraeli - amod\n",
      "\t\t\t\t\t\t\tstrike - dobj\n",
      "\t\t\t\t\t\t\t\t\tthat - nsubj\n",
      "\t\t\t\t\t\t\t\tkilled - relcl\n",
      "\t\t\t\t\t\t\t\t\t\ttwo - nummod\n",
      "\t\t\t\t\t\t\t\t\t\tIranian - amod\n",
      "\t\t\t\t\t\t\t\t\tgenerals - dobj\n",
      "\t\t\t\t\t\t\t\t\t\t\tan - det\n",
      "\t\t\t\t\t\t\t\t\t\t\tunprecedented - amod\n",
      "\t\t\t\t\t\t\t\t\t\t\tIranian - amod\n",
      "\t\t\t\t\t\t\t\t\t\t\tmissile - compound\n",
      "\t\t\t\t\t\t\t\t\t\tbarrage - appos\n",
      "\t\t\t\t\t\t\t\t\t\t\ton - prep\n",
      "\t\t\t\t\t\t\t\t\t\t\t\tIsrael - pobj\n",
      "\t\t\t\t\t\t\t\t\t\t\tand - cc\n",
      "\t\t\t\t\t\t\t\t\t\t\t\tthe - det\n",
      "\t\t\t\t\t\t\t\t\t\t\t\tapparent - amod\n",
      "\t\t\t\t\t\t\t\t\t\t\t\tIsraeli - amod\n",
      "\t\t\t\t\t\t\t\t\t\t\tstrike - conj\n",
      "\t\t\t\t\t\t\t\t\t\t\t\t\tearly - amod\n",
      "\t\t\t\t\t\t\t\t\t\t\t\tFriday - npadvmod\n",
      "\t\t\t\t\t\t\t\t\t\t\t\tin - prep\n",
      "\t\t\t\t\t\t\t\t\t\t\t\t\t\tthe - det\n",
      "\t\t\t\t\t\t\t\t\t\t\t\t\theart - pobj\n",
      "\t\t\t\t\t\t\t\t\t\t\t\t\t\tof - prep\n",
      "\t\t\t\t\t\t\t\t\t\t\t\t\t\t\tIran - pobj\n",
      "did - ROOT\n",
      "\tlittle - dobj\n",
      "\t\t\tto - aux\n",
      "\t\tresolve - relcl\n",
      "\t\t\t\tthe - det\n",
      "\t\t\t\tdeeper - amod\n",
      "\t\t\tgrievances - dobj\n",
      "\t\t\t\tbetween - prep\n",
      "\t\t\t\t\t\tthe - det\n",
      "\t\t\t\t\tfoes - pobj\n",
      "\tand - cc\n",
      "\tleft - conj\n",
      "\t\t\tthe - det\n",
      "\t\tdoor - dobj\n",
      "\t\topen - oprd\n",
      "\t\t\tto - prep\n",
      "\t\t\t\t\tfurther - advmod\n",
      "\t\t\t\tfighting - pobj\n",
      "---------------------------------------------------------------------------------------------\n",
      "\t\tIt - nsubj\n",
      "\tappears - ccomp\n",
      "\t\t\twe - nsubj\n",
      "\t\t’re - ccomp\n",
      "\t\t\tcloser - acomp\n",
      "\t\t\t\tthan - prep\n",
      "\t\t\t\t\tever - pcomp\n",
      "\t\t\t\tto - prep\n",
      "\t\t\t\t\t\ta - det\n",
      "\t\t\t\t\t\tbroad - amod\n",
      "\t\t\t\t\t\tregional - amod\n",
      "\t\t\t\t\twar - pobj\n",
      "\t\tdespite - prep\n",
      "\t\t\t\tthe - det\n",
      "\t\t\tfact - pobj\n",
      "\t\t\t\t\tthat - mark\n",
      "\t\t\t\t\t\tthe - det\n",
      "\t\t\t\t\t\tinternational - amod\n",
      "\t\t\t\t\tcommunity - nsubj\n",
      "\t\t\t\t\twill - aux\n",
      "\t\t\t\t\t\tmost - advmod\n",
      "\t\t\t\t\tlikely - advmod\n",
      "\t\t\t\tmake - acl\n",
      "\t\t\t\t\t\ta - det\n",
      "\t\t\t\t\t\tgreat - amod\n",
      "\t\t\t\t\teffort - dobj\n",
      "\t\t\t\t\t\t\tto - aux\n",
      "\t\t\t\t\t\tde - acl\n",
      "\t\t\t\t\t\t\t\tescalate - amod\n",
      "\t\t\t\t\t\t\ttensions - dobj\n",
      "wrote - ROOT\n",
      "\t\tAmos - compound\n",
      "\tHarel - nsubj\n",
      "\t\t\tthe - det\n",
      "\t\t\t\tmilitary - amod\n",
      "\t\t\taffairs - compound\n",
      "\t\tcommentator - appos\n",
      "\t\t\tfor - prep\n",
      "\t\t\t\t\tthe - det\n",
      "\t\t\t\t\tIsraeli - amod\n",
      "\t\t\t\t\tdaily - compound\n",
      "\t\t\t\tHaaretz - pobj\n",
      "---------------------------------------------------------------------------------------------\n",
      "\tIsrael - nsubj\n",
      "\thas - aux\n",
      "\tlong - advmod\n",
      "considered - ROOT\n",
      "\t\tIran - nsubj\n",
      "\t\tto - aux\n",
      "\tbe - ccomp\n",
      "\t\t\tits - poss\n",
      "\t\t\tgreatest - amod\n",
      "\t\tenemy - attr\n",
      "\tciting - advcl\n",
      "\t\t\t\tthe - det\n",
      "\t\t\t\tIslamic - compound\n",
      "\t\t\tRepublic - poss\n",
      "\t\t\t\t’s - case\n",
      "\t\tcalls - dobj\n",
      "\t\t\tfor - prep\n",
      "\t\t\t\t\tIsrael - poss\n",
      "\t\t\t\t\t\t’s - case\n",
      "\t\t\t\tdestruction - pobj\n",
      "\t\t\t\t\t\tits - poss\n",
      "\t\t\t\t\t\tcontroversial - amod\n",
      "\t\t\t\t\t\tnuclear - amod\n",
      "\t\t\t\t\tprogram - conj\n",
      "\t\t\t\t\t\tand - cc\n",
      "\t\t\t\t\t\t\tits - poss\n",
      "\t\t\t\t\t\tsupport - conj\n",
      "\t\t\t\t\t\t\tfor - prep\n",
      "\t\t\t\t\t\t\t\t\thostile - amod\n",
      "\t\t\t\t\t\t\t\tproxies - pobj\n",
      "\t\t\t\t\t\t\t\t\tacross - prep\n",
      "\t\t\t\t\t\t\t\t\t\t\tthe - det\n",
      "\t\t\t\t\t\t\t\t\t\t\tMiddle - compound\n",
      "\t\t\t\t\t\t\t\t\t\tEast - pobj\n",
      "---------------------------------------------------------------------------------------------\n",
      "\t\tThese - det\n",
      "\ttensions - nsubj\n",
      "\thave - aux\n",
      "risen - ROOT\n",
      "\tsince - prep\n",
      "\t\tHamas - pobj\n",
      "\t\t\tand - cc\n",
      "\t\t\t\tIslamic - compound\n",
      "\t\t\tJihad - conj\n",
      "\t\t\t\t\tIranian - npadvmod\n",
      "\t\t\t\tbacked - amod\n",
      "\t\t\t\tPalestinian - amod\n",
      "\t\t\tgroups - conj\n",
      "\tattacked - conj\n",
      "\t\tIsrael - dobj\n",
      "\t\ton - prep\n",
      "\t\t\tOct. - pobj\n",
      "\t\t\t\t7 - nummod\n",
      "\t\tsparking - advcl\n",
      "\t\t\t\ta - det\n",
      "\t\t\t\tdevastating - amod\n",
      "\t\t\t\tIsraeli - amod\n",
      "\t\t\toffensive - dobj\n",
      "\t\t\t\tin - prep\n",
      "\t\t\t\t\tGaza - pobj\n",
      "\t\t\t\t\tthat - nsubj\n",
      "\t\t\t\t\thas - aux\n",
      "\t\t\t\tcontinued - relcl\n",
      "\t\t\t\t\tfor - prep\n",
      "\t\t\t\t\t\t\t\tmore - amod\n",
      "\t\t\t\t\t\t\t\tthan - quantmod\n",
      "\t\t\t\t\t\t\tsix - nummod\n",
      "\t\t\t\t\t\tmonths - pobj\n",
      "---------------------------------------------------------------------------------------------\n",
      "\tHezbollah - nsubj\n",
      "\t\t\tan - det\n",
      "\t\t\t\tIranian - npadvmod\n",
      "\t\t\tbacked - amod\n",
      "\t\tproxy - appos\n",
      "\t\t\tin - prep\n",
      "\t\t\t\tLebanon - pobj\n",
      "\timmediately - advmod\n",
      "began - ROOT\n",
      "\tstriking - xcomp\n",
      "\t\t\tIsraeli - amod\n",
      "\t\ttargets - dobj\n",
      "\t\topening - conj\n",
      "\t\t\tup - prt\n",
      "\t\t\ttit - dobj\n",
      "\t\t\t\tfor - prep\n",
      "\t\t\t\t\ttat - pobj\n",
      "\t\t\tfighting - dobj\n",
      "\t\t\talong - prep\n",
      "\t\t\t\t\ta - det\n",
      "\t\t\t\t\tsecond - amod\n",
      "\t\t\t\tfront - pobj\n",
      "\t\twhile - mark\n",
      "\t\t\t\tIranian - npadvmod\n",
      "\t\t\tbacked - amod\n",
      "\t\tmilitias - nsubj\n",
      "\t\t\tin - prep\n",
      "\t\t\t\tIraq - pobj\n",
      "\t\t\t\t\tSyria - conj\n",
      "\t\t\t\t\t\tand - cc\n",
      "\t\t\t\t\t\tYemen - conj\n",
      "\t\thave - aux\n",
      "\t\talso - advmod\n",
      "\tfired - advcl\n",
      "\t\tmissiles - dobj\n",
      "\t\t\tand - cc\n",
      "\t\t\tdrones - conj\n",
      "\t\t\tat - prep\n",
      "\t\t\t\tIsrael - pobj\n",
      "\t\tthroughout - prep\n",
      "\t\t\t\tthe - det\n",
      "\t\t\twar - pobj\n",
      "---------------------------------------------------------------------------------------------\n",
      "\t\tWhile - mark\n",
      "\t\tIsrael - nsubj\n",
      "\t\t\tand - cc\n",
      "\t\t\tIran - conj\n",
      "\t\thave - aux\n",
      "\twaged - advcl\n",
      "\t\t\ta - det\n",
      "\t\t\tshadow - compound\n",
      "\t\twar - dobj\n",
      "\t\tfor - prep\n",
      "\t\t\tyears - pobj\n",
      "\t\tmostly - advmod\n",
      "\tin - prep\n",
      "\t\t\tneighboring - amod\n",
      "\t\tSyria - pobj\n",
      "\tthey - nsubj\n",
      "\thave - aux\n",
      "\tlargely - advmod\n",
      "avoided - ROOT\n",
      "\t\tdirect - amod\n",
      "\tconfrontations - dobj\n",
      "---------------------------------------------------------------------------------------------\n",
      "\tThat - nsubj\n",
      "changed - ROOT\n",
      "\t\tafter - mark\n",
      "\t\t\tan - det\n",
      "\t\t\tApril - nmod\n",
      "\t\t\t\t1 - nummod\n",
      "\t\tairstrike - nsubj\n",
      "\tkilled - advcl\n",
      "\t\t\ttwo - nummod\n",
      "\t\t\tIranian - amod\n",
      "\t\tgenerals - dobj\n",
      "\t\tat - prep\n",
      "\t\t\t\tan - det\n",
      "\t\t\t\tIranian - amod\n",
      "\t\t\t\tdiplomatic - amod\n",
      "\t\t\tcompound - pobj\n",
      "\t\t\t\tin - prep\n",
      "\t\t\t\t\t\tthe - det\n",
      "\t\t\t\t\t\tSyrian - amod\n",
      "\t\t\t\t\tcapital - pobj\n",
      "\t\t\t\t\t\tof - prep\n",
      "\t\t\t\t\t\t\tDamascus - pobj\n",
      "---------------------------------------------------------------------------------------------\n",
      "\t\tAlthough - mark\n",
      "\t\tIsrael - nsubj\n",
      "\t\tdid - aux\n",
      "\t\tnot - neg\n",
      "\tcomment - advcl\n",
      "\tIran - nsubj\n",
      "blamed - ROOT\n",
      "\tIsrael - dobj\n",
      "\tfor - prep\n",
      "\t\t\tthe - det\n",
      "\t\tstrike - pobj\n",
      "\tand - cc\n",
      "\tvowed - conj\n",
      "\t\trevenge - dobj\n",
      "---------------------------------------------------------------------------------------------\n",
      "\tIran - nsubj\n",
      "responded - ROOT\n",
      "\twith - prep\n",
      "\t\t\tits - poss\n",
      "\t\t\tfirst - amod\n",
      "\t\t\t\tever - advmod\n",
      "\t\t\tdirect - amod\n",
      "\t\tattack - pobj\n",
      "\t\t\ton - prep\n",
      "\t\t\t\tIsrael - pobj\n",
      "\tlaunching - advcl\n",
      "\t\tover - prep\n",
      "\t\t\t\t\t300 - nummod\n",
      "\t\t\t\tmissiles - nmod\n",
      "\t\t\t\t\tand - cc\n",
      "\t\t\t\tattack - compound\n",
      "\t\t\tdrones - pobj\n",
      "\t\t\tlate - amod\n",
      "\t\t\tSaturday - compound\n",
      "\t\tnight - npadvmod\n",
      "---------------------------------------------------------------------------------------------\n",
      "\tIsrael - nsubj\n",
      "\tworking - advcl\n",
      "\t\twith - prep\n",
      "\t\t\t\ta - det\n",
      "\t\t\t\tU.S.-led - amod\n",
      "\t\t\t\tinternational - amod\n",
      "\t\t\tcoalition - pobj\n",
      "said - ROOT\n",
      "\t\tit - nsubj\n",
      "\tintercepted - ccomp\n",
      "\t\t\tthough - mark\n",
      "\t\t\t\ta - det\n",
      "\t\t\thandful - nsubj\n",
      "\t\t\t\tof - prep\n",
      "\t\t\t\t\tmissiles - pobj\n",
      "\t\tmanaged - advcl\n",
      "\t\t\t\tto - aux\n",
      "\t\t\tland - xcomp\n",
      "\t\t\tcausing - advcl\n",
      "\t\t\t\t\tminor - amod\n",
      "\t\t\t\tdamage - dobj\n",
      "\t\t\t\t\tto - prep\n",
      "\t\t\t\t\t\t\tan - det\n",
      "\t\t\t\t\t\t\tIsraeli - amod\n",
      "\t\t\t\t\t\t\tmilitary - amod\n",
      "\t\t\t\t\t\tbase - pobj\n",
      "\t\t\t\tand - cc\n",
      "\t\t\t\t\tseriously - advmod\n",
      "\t\t\t\twounding - conj\n",
      "\t\t\t\t\t\ta - det\n",
      "\t\t\t\t\t\tyoung - amod\n",
      "\t\t\t\t\tgirl - dobj\n",
      "---------------------------------------------------------------------------------------------\n",
      "\tIn - prep\n",
      "\t\t\tFriday - poss\n",
      "\t\t\t\t’s - case\n",
      "\t\tattack - pobj\n",
      "\t\tIranian - amod\n",
      "\t\tstate - compound\n",
      "\ttelevision - nsubj\n",
      "said - ROOT\n",
      "\t\tthat - mark\n",
      "\t\t\t\tair - compound\n",
      "\t\t\tdefense - compound\n",
      "\t\tbatteries - nsubj\n",
      "\tfired - ccomp\n",
      "\t\tin - prep\n",
      "\t\t\t\tseveral - amod\n",
      "\t\t\tprovinces - pobj\n",
      "\t\tover - prep\n",
      "\t\t\treports - pobj\n",
      "\t\t\t\tof - prep\n",
      "\t\t\t\t\tdrones - pobj\n",
      "\t\t\t\tin - prep\n",
      "\t\t\t\t\t\tthe - det\n",
      "\t\t\t\t\tair - pobj\n",
      "---------------------------------------------------------------------------------------------\n",
      "\t\t\tIranian - amod\n",
      "\t\t\tarmy - compound\n",
      "\t\tcommander - compound\n",
      "\t\tGen. - compound\n",
      "\t\tAbdolrahim - compound\n",
      "\tMousavi - nsubj\n",
      "said - ROOT\n",
      "\t\tcrews - nsubj\n",
      "\ttargeted - ccomp\n",
      "\t\t\tseveral - amod\n",
      "\t\t\tflying - amod\n",
      "\t\tobjects - dobj\n",
      "---------------------------------------------------------------------------------------------\n",
      "\t\t\tThe - det\n",
      "\t\texplosion - nsubjpass\n",
      "\t\t\t\tthis - det\n",
      "\t\t\tmorning - npadvmod\n",
      "\t\t\tin - prep\n",
      "\t\t\t\t\tthe - det\n",
      "\t\t\t\tsky - pobj\n",
      "\t\t\t\t\tof - prep\n",
      "\t\t\t\t\t\tIsfahan - pobj\n",
      "\t\twas - auxpass\n",
      "\trelated - ccomp\n",
      "\t\tto - prep\n",
      "\t\t\t\tthe - det\n",
      "\t\t\tshooting - pobj\n",
      "\t\t\t\tof - prep\n",
      "\t\t\t\t\t\t\tair - compound\n",
      "\t\t\t\t\t\tdefense - compound\n",
      "\t\t\t\t\tsystems - pobj\n",
      "\t\t\t\tat - prep\n",
      "\t\t\t\t\t\ta - det\n",
      "\t\t\t\t\t\tsuspicious - amod\n",
      "\t\t\t\t\tobject - pobj\n",
      "\t\t\t\t\t\t\tthat - nsubj\n",
      "\t\t\t\t\t\t\tdid - aux\n",
      "\t\t\t\t\t\t\tnot - neg\n",
      "\t\t\t\t\t\tcause - relcl\n",
      "\t\t\t\t\t\t\t\tany - det\n",
      "\t\t\t\t\t\t\tdamage - dobj\n",
      "\tMousavi - nsubj\n",
      "said - ROOT\n",
      "---------------------------------------------------------------------------------------------\n",
      "\tAuthorities - nsubj\n",
      "said - ROOT\n",
      "\t\t\tair - compound\n",
      "\t\tdefenses - nsubj\n",
      "\tfired - ccomp\n",
      "\t\tat - prep\n",
      "\t\t\t\ta - det\n",
      "\t\t\t\tmajor - amod\n",
      "\t\t\t\tair - compound\n",
      "\t\t\tbase - pobj\n",
      "\t\t\t\tnear - prep\n",
      "\t\t\t\t\tIsfahan - pobj\n",
      "\t\t\t\t\t\t\twhich - nsubj\n",
      "\t\t\t\t\t\t\tlong - advmod\n",
      "\t\t\t\t\t\t\thas - aux\n",
      "\t\t\t\t\t\tbeen - relcl\n",
      "\t\t\t\t\t\t\thome - advmod\n",
      "\t\t\t\t\t\t\t\tto - prep\n",
      "\t\t\t\t\t\t\t\t\t\tIran - poss\n",
      "\t\t\t\t\t\t\t\t\t\t\t’s - case\n",
      "\t\t\t\t\t\t\t\t\tfleet - pobj\n",
      "\t\t\t\t\t\t\t\t\t\tof - prep\n",
      "\t\t\t\t\t\t\t\t\t\t\t\t\tAmerican - npadvmod\n",
      "\t\t\t\t\t\t\t\t\t\t\t\tmade - amod\n",
      "\t\t\t\t\t\t\t\t\t\t\t\tF-14 - compound\n",
      "\t\t\t\t\t\t\t\t\t\t\tTomcats - pobj\n",
      "\t\t\t\t\t\t\t\t\t\t\t\tpurchased - acl\n",
      "\t\t\t\t\t\t\t\t\t\t\t\t\tbefore - prep\n",
      "\t\t\t\t\t\t\t\t\t\t\t\t\t\t\tthe - det\n",
      "\t\t\t\t\t\t\t\t\t\t\t\t\t\t\t1979 - nummod\n",
      "\t\t\t\t\t\t\t\t\t\t\t\t\t\t\tIslamic - compound\n",
      "\t\t\t\t\t\t\t\t\t\t\t\t\t\tRevolution - pobj\n",
      "---------------------------------------------------------------------------------------------\n",
      "\tIsfahan - nsubj\n",
      "\talso - advmod\n",
      "is - ROOT\n",
      "\thome - advmod\n",
      "\t\tto - prep\n",
      "\t\t\tsites - pobj\n",
      "\t\t\t\tassociated - acl\n",
      "\t\t\t\t\twith - prep\n",
      "\t\t\t\t\t\t\tIran - poss\n",
      "\t\t\t\t\t\t\t\t’s - case\n",
      "\t\t\t\t\t\t\tnuclear - amod\n",
      "\t\t\t\t\t\tprogram - pobj\n",
      "\t\t\t\t\t\t\tincluding - prep\n",
      "\t\t\t\t\t\t\t\t\tits - poss\n",
      "\t\t\t\t\t\t\t\t\tunderground - amod\n",
      "\t\t\t\t\t\t\t\t\tNatanz - compound\n",
      "\t\t\t\t\t\t\t\t\tenrichment - compound\n",
      "\t\t\t\t\t\t\t\tsite - pobj\n",
      "\t\t\t\t\t\t\t\t\t\twhich - nsubjpass\n",
      "\t\t\t\t\t\t\t\t\t\thas - aux\n",
      "\t\t\t\t\t\t\t\t\t\tbeen - auxpass\n",
      "\t\t\t\t\t\t\t\t\t\trepeatedly - advmod\n",
      "\t\t\t\t\t\t\t\t\ttargeted - relcl\n",
      "\t\t\t\t\t\t\t\t\t\tby - agent\n",
      "\t\t\t\t\t\t\t\t\t\t\t\tsuspected - amod\n",
      "\t\t\t\t\t\t\t\t\t\t\t\tIsraeli - amod\n",
      "\t\t\t\t\t\t\t\t\t\t\t\tsabotage - compound\n",
      "\t\t\t\t\t\t\t\t\t\t\tattacks - pobj\n",
      "---------------------------------------------------------------------------------------------\n",
      "\t\tThe - det\n",
      "\t\tapparent - amod\n",
      "\tattack - nsubj\n",
      "\tFriday - npadvmod\n",
      "came - ROOT\n",
      "\ton - prep\n",
      "\t\t\t\t\tIranian - amod\n",
      "\t\t\t\t\tSupreme - compound\n",
      "\t\t\t\tLeader - compound\n",
      "\t\t\t\tAyatollah - compound\n",
      "\t\t\t\tAli - compound\n",
      "\t\t\tKhamenei - poss\n",
      "\t\t\t\t’s - case\n",
      "\t\t\t85th - amod\n",
      "\t\tbirthday - pobj\n",
      "---------------------------------------------------------------------------------------------\n",
      "\t\tState - compound\n",
      "\ttelevision - nsubj\n",
      "described - ROOT\n",
      "\t\tall - det\n",
      "\t\tIranian - amod\n",
      "\t\tatomic - amod\n",
      "\tsites - dobj\n",
      "\tin - prep\n",
      "\t\t\tthe - det\n",
      "\t\tareas - pobj\n",
      "\tas - prep\n",
      "\t\t\tfully - advmod\n",
      "\t\tsafe - amod\n",
      "---------------------------------------------------------------------------------------------\n",
      "\t\t\tThe - det\n",
      "\t\t\tUnited - compound\n",
      "\t\tNations - poss\n",
      "\t\tnuclear - amod\n",
      "\twatchdog - nsubj\n",
      "\t\t\tthe - det\n",
      "\t\t\t\tInternational - compound\n",
      "\t\t\t\tAtomic - compound\n",
      "\t\t\tEnergy - compound\n",
      "\t\tAgency - appos\n",
      "\talso - advmod\n",
      "said - ROOT\n",
      "\t\tthere - expl\n",
      "\twas - ccomp\n",
      "\t\t\tno - det\n",
      "\t\tdamage - attr\n",
      "\t\t\tto - prep\n",
      "\t\t\t\t\tIran - poss\n",
      "\t\t\t\t\t\t’s - case\n",
      "\t\t\t\t\tnuclear - amod\n",
      "\t\t\t\tsites - pobj\n",
      "---------------------------------------------------------------------------------------------\n",
      "\t\tIranian - amod\n",
      "\tofficials - nsubj\n",
      "made - ROOT\n",
      "\t\tno - det\n",
      "\tmention - dobj\n",
      "\t\tof - prep\n",
      "\t\t\t\tpossible - amod\n",
      "\t\t\t\tIsraeli - amod\n",
      "\t\t\tinvolvement - pobj\n",
      "---------------------------------------------------------------------------------------------\n",
      "\tThat - nsubj\n",
      "\tcould - aux\n",
      "be - ROOT\n",
      "\tintentional - acomp\n",
      "\t\tparticularly - advmod\n",
      "\t\tafter - mark\n",
      "\t\t\tIranian - amod\n",
      "\t\tofficials - nsubj\n",
      "\t\t\tfor - prep\n",
      "\t\t\t\tdays - pobj\n",
      "\t\thave - aux\n",
      "\t\tbeen - aux\n",
      "\tthreatening - advcl\n",
      "\t\t\tto - aux\n",
      "\t\trespond - xcomp\n",
      "\t\t\tto - prep\n",
      "\t\t\t\t\tany - det\n",
      "\t\t\t\t\tIsraeli - amod\n",
      "\t\t\t\t\tretaliatory - amod\n",
      "\t\t\t\tattack - pobj\n",
      "---------------------------------------------------------------------------------------------\n",
      "\tIsrael - nsubj\n",
      "\talso - advmod\n",
      "had - ROOT\n",
      "\t\tno - det\n",
      "\tcomment - dobj\n",
      "\t\ton - prep\n",
      "\t\t\t\tthe - det\n",
      "\t\t\t\tapparent - amod\n",
      "\t\t\tattack - pobj\n",
      "\t\tthough - mark\n",
      "\t\t\tone - nummod\n",
      "\t\t\t\thard - amod\n",
      "\t\t\tline - compound\n",
      "\t\t\tgovernment - compound\n",
      "\t\tminister - nsubj\n",
      "\t\t\t\tItamar - compound\n",
      "\t\t\t\tBen - compound\n",
      "\t\t\tGvir - appos\n",
      "\thinted - advcl\n",
      "\t\tat - prep\n",
      "\t\t\t\this - poss\n",
      "\t\t\tdissatisfaction - pobj\n",
      "\t\twith - prep\n",
      "\t\t\t\ta - det\n",
      "\t\t\t\t\tone - nummod\n",
      "\t\t\t\tword - compound\n",
      "\t\t\ttweet - pobj\n",
      "\t\t\tearly - amod\n",
      "\t\tFriday - npadvmod\n",
      "\t\tusing - advcl\n",
      "\t\t\t\ta - det\n",
      "\t\t\t\tslang - compound\n",
      "\t\t\tword - dobj\n",
      "\t\t\t\tfor - prep\n",
      "\t\t\t\t\tweak - amod\n",
      "\t\t\t\t\t\tor - cc\n",
      "\t\t\t\t\t\tlame - conj\n",
      "---------------------------------------------------------------------------------------------\n",
      "\tBut - cc\n",
      "\t\tItaly - poss\n",
      "\t\t\t’s - case\n",
      "\t\tforeign - amod\n",
      "\tminister - nsubj\n",
      "\t\t\tAntonio - compound\n",
      "\t\tTajani - appos\n",
      "said - ROOT\n",
      "\tat - prep\n",
      "\t\t\ta - det\n",
      "\t\tsummit - pobj\n",
      "\t\t\tof - prep\n",
      "\t\t\t\t\tWestern - amod\n",
      "\t\t\t\tleaders - pobj\n",
      "\t\t\tin - prep\n",
      "\t\t\t\tCapri - pobj\n",
      "\t\t\t\tthat - mark\n",
      "\t\t\t\t\tthe - det\n",
      "\t\t\t\tU.S. - nsubj\n",
      "\t\t\treceived - relcl\n",
      "\t\t\t\t\t\tlast - amod\n",
      "\t\t\t\t\tminute - nmod\n",
      "\t\t\t\tinformation - dobj\n",
      "\t\t\t\t\tfrom - prep\n",
      "\t\t\t\t\t\tIsrael - pobj\n",
      "\t\t\t\tabout - prep\n",
      "\t\t\t\t\t\tthe - det\n",
      "\t\t\t\t\tattack - pobj\n",
      "---------------------------------------------------------------------------------------------\n",
      "\t\t\tU.S. - nmod\n",
      "\t\tSecretary - nmod\n",
      "\t\t\tof - prep\n",
      "\t\t\t\tState - pobj\n",
      "\t\tAntony - compound\n",
      "\tBlinken - nsubj\n",
      "\tdid - aux\n",
      "\tnot - neg\n",
      "dispute - ROOT\n",
      "\tthat - dobj\n",
      "\tbut - cc\n",
      "\tsaid - conj\n",
      "\t\t\tWe - nsubjpass\n",
      "\t\t\twere - auxpass\n",
      "\t\t\tnot - neg\n",
      "\t\tinvolved - ccomp\n",
      "\t\t\tin - prep\n",
      "\t\t\t\t\tany - det\n",
      "\t\t\t\t\toffensive - amod\n",
      "\t\t\t\toperations - pobj\n",
      "---------------------------------------------------------------------------------------------\n",
      "\t\tYoel - compound\n",
      "\tGuzansky - nsubj\n",
      "\t\t\ta - det\n",
      "\t\t\tformer - amod\n",
      "\t\t\tIran - compound\n",
      "\t\texpert - appos\n",
      "\t\t\tin - prep\n",
      "\t\t\t\t\t\tthe - det\n",
      "\t\t\t\t\t\tIsraeli - amod\n",
      "\t\t\t\t\t\tprime - compound\n",
      "\t\t\t\t\tminister - poss\n",
      "\t\t\t\t\t\t’s - case\n",
      "\t\t\t\toffice - pobj\n",
      "said - ROOT\n",
      "\t\tIsrael - nsubj\n",
      "\tappears - ccomp\n",
      "\t\t\tto - aux\n",
      "\t\t\thave - aux\n",
      "\t\tcarried - xcomp\n",
      "\t\t\tout - prt\n",
      "\t\t\t\tthe - det\n",
      "\t\t\tattack - dobj\n",
      "\t\t\t\tto - aux\n",
      "\t\t\tcheck - advcl\n",
      "\t\t\t\toff - prt\n",
      "\t\t\t\t\ta - det\n",
      "\t\t\t\tbox - dobj\n",
      "\t\t\t\tby - prep\n",
      "\t\t\t\t\tsending - pcomp\n",
      "\t\t\t\t\t\t\ta - det\n",
      "\t\t\t\t\t\tmessage - dobj\n",
      "\t\t\t\t\t\tto - dative\n",
      "\t\t\t\t\t\t\tIran - pobj\n",
      "\t\t\t\t\t\twithout - prep\n",
      "\t\t\t\t\t\t\tdoing - pcomp\n",
      "\t\t\t\t\t\t\t\tanything - dobj\n",
      "\t\t\t\t\t\t\t\t\t\ttoo - advmod\n",
      "\t\t\t\t\t\t\t\t\tprovocative - amod\n",
      "\t\t\t\t\t\t\t\t\t\tthat - nsubj\n",
      "\t\t\t\t\t\t\t\t\t\tcould - aux\n",
      "\t\t\t\t\t\t\t\t\tupset - relcl\n",
      "\t\t\t\t\t\t\t\t\t\t\tthe - det\n",
      "\t\t\t\t\t\t\t\t\t\t\tUnited - compound\n",
      "\t\t\t\t\t\t\t\t\t\tStates - dobj\n",
      "\t\t\t\t\t\t\t\t\t\t\t\twhich - nsubj\n",
      "\t\t\t\t\t\t\t\t\t\t\t\thad - aux\n",
      "\t\t\t\t\t\t\t\t\t\t\turged - relcl\n",
      "\t\t\t\t\t\t\t\t\t\t\t\trestraint - dobj\n",
      "\t\t\t\t\t\t\t\t\t\tor - cc\n",
      "\t\t\t\t\t\t\t\t\t\tspark - conj\n",
      "\t\t\t\t\t\t\t\t\t\t\t\tfurther - amod\n",
      "\t\t\t\t\t\t\t\t\t\t\t\tIranian - amod\n",
      "\t\t\t\t\t\t\t\t\t\t\tretaliation - dobj\n",
      "---------------------------------------------------------------------------------------------\n",
      "\t\tIt - nsubj\n",
      "\tseems - ccomp\n",
      "\t\t\tvery - advmod\n",
      "\t\tlimited - oprd\n",
      "\t\t\tto - aux\n",
      "\t\tsend - xcomp\n",
      "\t\t\t\ta - det\n",
      "\t\t\tmessage - dobj\n",
      "\t\t\t\t\tthat - mark\n",
      "\t\t\t\t\twe - nsubj\n",
      "\t\t\t\t\tcan - aux\n",
      "\t\t\t\tstrike - acl\n",
      "\t\t\t\t\tyou - dobj\n",
      "\t\t\t\t\tinside - advmod\n",
      "\t\t\t\t\t\tof - prep\n",
      "\t\t\t\t\t\t\tIran - pobj\n",
      "said - ROOT\n",
      "\tGuzansky - nsubj\n",
      "\t\t\ta - det\n",
      "\t\t\tsenior - amod\n",
      "\t\tresearcher - appos\n",
      "\t\t\tat - prep\n",
      "\t\t\t\t\tthe - det\n",
      "\t\t\t\tInstitute - pobj\n",
      "\t\t\t\t\tfor - prep\n",
      "\t\t\t\t\t\t\tNational - compound\n",
      "\t\t\t\t\t\t\tSecurity - compound\n",
      "\t\t\t\t\t\tStudies - pobj\n",
      "\t\t\ta - det\n",
      "\t\t\t\tTel - compound\n",
      "\t\t\tAviv - compound\n",
      "\t\t\tthink - compound\n",
      "\t\ttank - appos\n",
      "---------------------------------------------------------------------------------------------\n",
      "\tHe - nsubj\n",
      "said - ROOT\n",
      "\t\t\tthe - det\n",
      "\t\t\tcurrent - amod\n",
      "\t\tround - nsubj\n",
      "\t\t\tof - prep\n",
      "\t\t\t\tviolence - pobj\n",
      "\tappears - ccomp\n",
      "\t\t\tto - aux\n",
      "\t\tbe - xcomp\n",
      "\t\t\tover - advmod\n",
      "\t\tbut - cc\n",
      "\t\t\tthat - mark\n",
      "\t\t\tnothing - nsubj\n",
      "\t\t\thas - aux\n",
      "\t\tchanged - conj\n",
      "\t\t\twith - prep\n",
      "\t\t\t\t\tIsrael - nsubj\n",
      "\t\t\t\t\tstill - advmod\n",
      "\t\t\t\tfacing - pcomp\n",
      "\t\t\t\t\t\t\tIranian - npadvmod\n",
      "\t\t\t\t\t\tbacked - amod\n",
      "\t\t\t\t\tthreats - dobj\n",
      "\t\t\t\t\t\ton - prep\n",
      "\t\t\t\t\t\t\t\tvarious - amod\n",
      "\t\t\t\t\t\t\tfronts - pobj\n",
      "---------------------------------------------------------------------------------------------\n",
      "\t\tI - nsubj\n",
      "\tsee - ccomp\n",
      "\t\t\tfurther - amod\n",
      "\t\trounds - dobj\n",
      "\the - nsubj\n",
      "said - ROOT\n",
      "---------------------------------------------------------------------------------------------\n",
      "\t\tAnd - cc\n",
      "\t\t\tthe - det\n",
      "\t\t\tnext - amod\n",
      "\t\ttime - npadvmod\n",
      "\t\t\tif - mark\n",
      "\t\t\tIran - nsubj\n",
      "\t\tsurprises - advcl\n",
      "\t\t\tIsrael - dobj\n",
      "\t\t\t\tor - cc\n",
      "\t\t\t\tallies - conj\n",
      "\t\tdo - aux\n",
      "\t\tn’t - neg\n",
      "\tassist - advcl\n",
      "\t\tin - prep\n",
      "\t\t\t\tIsrael - poss\n",
      "\t\t\t\t\t’s - case\n",
      "\t\t\tdefense - pobj\n",
      "\t\tthe - det\n",
      "\toutcome - nsubj\n",
      "\twill - aux\n",
      "be - ROOT\n",
      "\tdifferent - acomp\n",
      "---------------------------------------------------------------------------------------------\n",
      "\t\t\tU.N. - compound\n",
      "\t\t\tSecretary - compound\n",
      "\t\tGeneral - compound\n",
      "\t\tAntonio - compound\n",
      "\tGuterres - nsubj\n",
      "called - ROOT\n",
      "\tfor - prep\n",
      "\t\t\tan - det\n",
      "\t\tend - pobj\n",
      "\t\t\tto - prep\n",
      "\t\t\t\t\tthe - det\n",
      "\t\t\t\tstrikes - pobj\n",
      "---------------------------------------------------------------------------------------------\n",
      "\t\tIt - nsubj\n",
      "\tis - ccomp\n",
      "\t\t\thigh - amod\n",
      "\t\ttime - attr\n",
      "\t\t\tto - aux\n",
      "\t\tstop - xcomp\n",
      "\t\t\t\tthe - det\n",
      "\t\t\t\tdangerous - amod\n",
      "\t\t\tcycle - dobj\n",
      "\t\t\t\tof - prep\n",
      "\t\t\t\t\tretaliation - pobj\n",
      "\t\t\t\t\t\tin - prep\n",
      "\t\t\t\t\t\t\t\tthe - det\n",
      "\t\t\t\t\t\t\t\tMiddle - compound\n",
      "\t\t\t\t\t\t\tEast - pobj\n",
      "\t\this - poss\n",
      "\toffice - nsubj\n",
      "said - ROOT\n",
      "---------------------------------------------------------------------------------------------\n",
      "\t\tCharles - compound\n",
      "\tLister - nsubj\n",
      "\t\t\ta - det\n",
      "\t\t\tsenior - amod\n",
      "\t\tfellow - appos\n",
      "\t\t\tat - prep\n",
      "\t\t\t\t\tthe - det\n",
      "\t\t\t\t\t\tWashington - npadvmod\n",
      "\t\t\t\t\tbased - amod\n",
      "\t\t\t\t\t\tMiddle - compound\n",
      "\t\t\t\t\tEast - compound\n",
      "\t\t\t\tInstitute - pobj\n",
      "\t\t\tand - cc\n",
      "\t\t\t\ta - det\n",
      "\t\t\t\tlongtime - amod\n",
      "\t\t\t\tregional - amod\n",
      "\t\t\tanalyst - conj\n",
      "challenged - ROOT\n",
      "\t\tIran - poss\n",
      "\t\t\t’s - case\n",
      "\tclaims - dobj\n",
      "\t\t\tthat - mark\n",
      "\t\t\tdrones - nsubj\n",
      "\t\tcarried - acl\n",
      "\t\t\tout - prt\n",
      "\t\t\t\tthe - det\n",
      "\t\t\tattacks - dobj\n",
      "---------------------------------------------------------------------------------------------\n",
      "\t\tIt - nsubj\n",
      "\tappears - ccomp\n",
      "\t\tinstead - advmod\n",
      "\t\t\tthat - mark\n",
      "\t\t\t\ta - det\n",
      "\t\t\t\tsmall - amod\n",
      "\t\t\tnumber - nsubj\n",
      "\t\t\t\tof - prep\n",
      "\t\t\t\t\t\tIsraeli - amod\n",
      "\t\t\t\t\taircraft - pobj\n",
      "\t\tflew - ccomp\n",
      "\t\t\tfrom - prep\n",
      "\t\t\t\tIsrael - pobj\n",
      "\t\t\tover - prep\n",
      "\t\t\t\tSyria - pobj\n",
      "\t\t\tstriking - advcl\n",
      "\t\t\t\t\t\t\tat - advmod\n",
      "\t\t\t\t\t\tleast - advmod\n",
      "\t\t\t\t\ttwo - nummod\n",
      "\t\t\t\t\t\tsouthern - amod\n",
      "\t\t\t\t\tSyria - compound\n",
      "\t\t\t\t\tmilitary - amod\n",
      "\t\t\t\tbases - dobj\n",
      "\t\t\t\t\t\tthat - nsubj\n",
      "\t\t\t\t\thave - relcl\n",
      "\t\t\t\t\t\t\t\tair - compound\n",
      "\t\t\t\t\t\t\tdefense - compound\n",
      "\t\t\t\t\t\tsystems - dobj\n",
      "\t\t\t\t\t\talong - prep\n",
      "\t\t\t\t\t\t\t\tthe - det\n",
      "\t\t\t\t\t\t\tway - pobj\n",
      "\the - nsubj\n",
      "said - ROOT\n",
      "---------------------------------------------------------------------------------------------\n",
      "\t\tThey - nsubj\n",
      "\t\tthen - advmod\n",
      "\tentered - ccomp\n",
      "\t\t\tIraqi - amod\n",
      "\t\tairspace - dobj\n",
      "\t\tfrom - prep\n",
      "\t\t\t\twhere - advmod\n",
      "\t\t\t\tthey - nsubj\n",
      "\t\t\tfired - pcomp\n",
      "\t\t\t\t\ta - det\n",
      "\t\t\t\t\tsmall - amod\n",
      "\t\t\t\tnumber - dobj\n",
      "\t\t\t\t\tof - prep\n",
      "\t\t\t\t\t\t\t\tBlue - compound\n",
      "\t\t\t\t\t\t\tSparrow - compound\n",
      "\t\t\t\t\t\t\tair - nmod\n",
      "\t\t\t\t\t\t\t\tto - prep\n",
      "\t\t\t\t\t\t\t\t\tsurface - pobj\n",
      "\t\t\t\t\t\t\tballistic - amod\n",
      "\t\t\t\t\t\tmissiles - pobj\n",
      "\t\t\t\tlikely - advmod\n",
      "\t\t\t\t\twithout - prep\n",
      "\t\t\t\t\t\t\tever - advmod\n",
      "\t\t\t\t\t\tentering - pcomp\n",
      "\t\t\t\t\t\t\t\tIranian - amod\n",
      "\t\t\t\t\t\t\tairspace - dobj\n",
      "\tLister - nsubj\n",
      "said - ROOT\n",
      "---------------------------------------------------------------------------------------------\n",
      "\t\tAccounts - nsubj\n",
      "\t\t\tof - prep\n",
      "\t\t\t\texplosions - pobj\n",
      "\t\t\t\t\tover - prep\n",
      "\t\t\t\t\t\tIraq - pobj\n",
      "\tsupport - ccomp\n",
      "\t\t\tthat - det\n",
      "\t\tscenario - dobj\n",
      "\t\tand - cc\n",
      "\t\t\tso - advmod\n",
      "\t\tdoes - conj\n",
      "\t\t\tdebris - nsubj\n",
      "\t\t\tfrom - prep\n",
      "\t\t\t\t\twhat - nsubj\n",
      "\t\t\t\tappears - pcomp\n",
      "\t\t\t\t\t\tto - aux\n",
      "\t\t\t\t\tbe - xcomp\n",
      "\t\t\t\t\t\t\tthe - det\n",
      "\t\t\t\t\t\tbooster - attr\n",
      "\t\t\t\t\t\t\tof - prep\n",
      "\t\t\t\t\t\t\t\t\tan - det\n",
      "\t\t\t\t\t\t\t\t\t\tIsraeli - amod\n",
      "\t\t\t\t\t\t\t\t\tmade - amod\n",
      "\t\t\t\t\t\t\t\t\t\tBlue - compound\n",
      "\t\t\t\t\t\t\t\t\tSparrow - compound\n",
      "\t\t\t\t\t\t\t\tmissile - pobj\n",
      "\t\t\t\t\t\t\t\t\t\tthat - dobj\n",
      "\t\t\t\t\t\t\t\t\t\t\tIraqi - amod\n",
      "\t\t\t\t\t\t\t\t\t\tsecurity - nsubj\n",
      "\t\t\t\t\t\t\t\t\tfound - relcl\n",
      "\t\t\t\t\t\t\t\t\t\tin - prep\n",
      "\t\t\t\t\t\t\t\t\t\t\t\ta - det\n",
      "\t\t\t\t\t\t\t\t\t\t\tfield - pobj\n",
      "\t\t\t\t\t\t\t\t\t\t\t\toutside - prep\n",
      "\t\t\t\t\t\t\t\t\t\t\t\t\tBaghdad - pobj\n",
      "\tLister - nsubj\n",
      "said - ROOT\n",
      "---------------------------------------------------------------------------------------------\n",
      "\t\tIn - prep\n",
      "\t\t\t\tother - amod\n",
      "\t\t\twords - pobj\n",
      "\t\t\tthe - det\n",
      "\t\tIsraelis - nsubj\n",
      "\t\twould - aux\n",
      "\t\tnever - neg\n",
      "\t\thave - aux\n",
      "\tneeded - ccomp\n",
      "\t\t\tto - aux\n",
      "\t\tenter - xcomp\n",
      "\t\t\t\tIranian - amod\n",
      "\t\t\tairspace - dobj\n",
      "\t\t\t\tto - aux\n",
      "\t\t\tconduct - advcl\n",
      "\t\t\t\t\tthis - det\n",
      "\t\t\t\tattack - dobj\n",
      "\tLister - nsubj\n",
      "said - ROOT\n",
      "---------------------------------------------------------------------------------------------\n",
      "\tI - nsubj\n",
      "think - ROOT\n",
      "\t\tthis - nsubj\n",
      "\twas - ccomp\n",
      "\t\t\tIsrael - poss\n",
      "\t\t\t\t’s - case\n",
      "\t\tway - attr\n",
      "\t\t\tof - prep\n",
      "\t\t\t\t\tjust - advmod\n",
      "\t\t\t\tsending - pcomp\n",
      "\t\t\t\t\t\ta - det\n",
      "\t\t\t\t\tmessage - dobj\n",
      "\t\t\t\t\t\t\tthat - mark\n",
      "\t\t\t\t\t\t\twe - nsubj\n",
      "\t\t\t\t\t\t\tcan - aux\n",
      "\t\t\t\t\t\treach - relcl\n",
      "\t\t\t\t\t\t\tyou - dobj\n",
      "\t\tanywhere - advmod\n",
      "\t\twe - nsubj\n",
      "\twant - ccomp\n",
      "---------------------------------------------------------------------------------------------\n",
      "\t\tIf - mark\n",
      "\t\tthis - det\n",
      "\t\tlatest - amod\n",
      "\t\tround - amod\n",
      "\tsubsides - advcl\n",
      "\tIsrael - nsubj\n",
      "\tcan - aux\n",
      "\tnow - advmod\n",
      "return - ROOT\n",
      "\t\tits - poss\n",
      "\tfocus - dobj\n",
      "\tto - prep\n",
      "\t\t\tits - poss\n",
      "\t\t\tongoing - amod\n",
      "\t\twar - pobj\n",
      "\t\t\tin - prep\n",
      "\t\t\t\tGaza - pobj\n",
      "\t\t\tand - cc\n",
      "\t\t\t\tthe - det\n",
      "\t\t\t\tsimmering - amod\n",
      "\t\t\tfighting - conj\n",
      "\t\t\t\twith - prep\n",
      "\t\t\t\t\tHezbollah - pobj\n",
      "---------------------------------------------------------------------------------------------\n",
      "\tWith - prep\n",
      "\t\tneither - pobj\n",
      "\t\t\tof - prep\n",
      "\t\t\t\t\tthose - det\n",
      "\t\t\t\tfronts - pobj\n",
      "\t\t\t\t\tletting - acl\n",
      "\t\t\t\t\t\tup - prt\n",
      "\t\tthe - det\n",
      "\trisk - nsubj\n",
      "\t\tof - prep\n",
      "\t\t\t\tfurther - amod\n",
      "\t\t\t\trun - compound\n",
      "\t\t\tins - pobj\n",
      "\t\t\t\twith - prep\n",
      "\t\t\t\t\tIran - pobj\n",
      "remains - ROOT\n",
      "\thigh - acomp\n",
      "\t\tthough - mark\n",
      "\t\t\tneither - det\n",
      "\t\tside - nsubj\n",
      "\tappears - advcl\n",
      "\t\teager - oprd\n",
      "\t\tafter - prep\n",
      "\t\t\t\tFriday - poss\n",
      "\t\t\t\t\t’s - case\n",
      "\t\t\t\tapparent - amod\n",
      "\t\t\t\tIsraeli - amod\n",
      "\t\t\tattack - pobj\n",
      "---------------------------------------------------------------------------------------------\n",
      "\t\t\tNeither - det\n",
      "\t\tside - nsubj\n",
      "\tis - ccomp\n",
      "\t\tready - acomp\n",
      "\t\t\t\tto - aux\n",
      "\t\t\tjump - xcomp\n",
      "\t\t\t\tover - prep\n",
      "\t\t\t\t\t\tthe - det\n",
      "\t\t\t\t\tbrink - pobj\n",
      "said - ROOT\n",
      "\t\tAlex - compound\n",
      "\tVatanka - nsubj\n",
      "\t\tdirector - appos\n",
      "\t\t\tof - prep\n",
      "\t\t\t\t\tthe - det\n",
      "\t\t\t\t\tIran - compound\n",
      "\t\t\t\tprogram - pobj\n",
      "\t\t\tat - prep\n",
      "\t\t\t\t\tthe - det\n",
      "\t\t\t\t\t\tMiddle - compound\n",
      "\t\t\t\t\tEast - compound\n",
      "\t\t\t\tInstitute - pobj\n",
      "---------------------------------------------------------------------------------------------\n",
      "\tBut - cc\n",
      "\the - nsubj\n",
      "added - ROOT\n",
      "\t\ta - det\n",
      "\t\tmajor - amod\n",
      "\tcaveat - dobj\n",
      "---------------------------------------------------------------------------------------------\n",
      "\t\tProbably - advmod\n",
      "\t\twe - nsubj\n",
      "\t\t’re - aux\n",
      "\tgoing - ccomp\n",
      "\t\t\tto - aux\n",
      "\t\tgo - xcomp\n",
      "\t\t\tback - advmod\n",
      "\t\t\t\tto - prep\n",
      "\t\t\t\t\t\tthe - det\n",
      "\t\t\t\t\t\tproxy - compound\n",
      "\t\t\t\t\twar - pobj\n",
      "\the - nsubj\n",
      "said - ROOT\n",
      "\tbut - cc\n",
      "\t\tnow - advmod\n",
      "\t\tit - nsubj\n",
      "\t’s - conj\n",
      "\t\t\ta - det\n",
      "\t\t\tproxy - amod\n",
      "\t\twar - attr\n",
      "\t\t\twith - prep\n",
      "\t\t\t\t\tthe - det\n",
      "\t\t\t\trisk - pobj\n",
      "\t\t\t\t\tof - prep\n",
      "\t\t\t\t\t\t\tthat - det\n",
      "\t\t\t\t\t\t\tsudden - amod\n",
      "\t\t\t\t\t\teruption - pobj\n",
      "\t\t\t\t\t\t\tof - prep\n",
      "\t\t\t\t\t\t\t\t\tstate - nmod\n",
      "\t\t\t\t\t\t\t\t\t\tto - prep\n",
      "\t\t\t\t\t\t\t\t\t\t\tstate - pobj\n",
      "\t\t\t\t\t\t\t\twar - pobj\n",
      "---------------------------------------------------------------------------------------------\n",
      "\tWhich - dobj\n",
      "\twe - nsubj\n",
      "\tdid - aux\n",
      "\tn’t - neg\n",
      "have - ROOT\n",
      "\t\tto - aux\n",
      "\tworry - xcomp\n",
      "\t\tabout - prep\n",
      "\t\tbefore - advmod\n",
      "---------------------------------------------------------------------------------------------\n"
     ]
    }
   ],
   "source": [
    "for sent in doc.sents:\n",
    "    pr_tree(sent.root, 0)\n",
    "    print('---------------------------------------------------------------------------------------------')"
   ]
  },
  {
   "cell_type": "markdown",
   "metadata": {},
   "source": [
    "# 4. Show the most common Entities and their types. "
   ]
  },
  {
   "cell_type": "code",
   "execution_count": 57,
   "metadata": {},
   "outputs": [
    {
     "data": {
      "text/html": [
       "<b>Most common entities and types:</b> [(('Israel', 'GPE'), 20), (('Iran', 'GPE'), 17), (('Iranian', 'NORP'), 17), (('Israeli', 'NORP'), 14), (('Friday', 'DATE'), 4), (('Syria', 'GPE'), 4), (('two', 'CARDINAL'), 3), (('early Friday', 'DATE'), 2), (('the Middle East', 'LOC'), 2), (('Gaza', 'GPE'), 2), (('Hezbollah', 'ORG'), 2), (('Iraq', 'GPE'), 2), (('Isfahan', 'GPE'), 2), (('one', 'CARDINAL'), 2), (('U.S.', 'GPE'), 2), (('Iraqi', 'NORP'), 2), (('weeks', 'DATE'), 1), (('Amos Harel', 'PERSON'), 1), (('the Islamic Republic’s', 'GPE'), 1), (('Hamas', 'ORG'), 1)]"
      ],
      "text/plain": [
       "<IPython.core.display.HTML object>"
      ]
     },
     "metadata": {},
     "output_type": "display_data"
    }
   ],
   "source": [
    "# Extract entities and count them\n",
    "entities = [ent.text for ent in doc.ents]\n",
    "entity_types = [(ent.text, ent.label_) for ent in doc.ents]\n",
    "entity_freq = Counter(entity_types)\n",
    "display(HTML(f\"<b>Most common entities and types:</b> {entity_freq.most_common(20)}\"))"
   ]
  },
  {
   "cell_type": "markdown",
   "metadata": {},
   "source": [
    "# 5. Find Entites and their dependency (hint: entity.root.head)"
   ]
  },
  {
   "cell_type": "code",
   "execution_count": 53,
   "metadata": {
    "scrolled": true
   },
   "outputs": [
    {
     "data": {
      "text/html": [
       "Entity: <b>Israel</b> -  Dependency: <b>nsubj</b> -  Head: <b>played</b>"
      ],
      "text/plain": [
       "<IPython.core.display.HTML object>"
      ]
     },
     "metadata": {},
     "output_type": "display_data"
    },
    {
     "data": {
      "text/html": [
       "Entity: <b>Iran</b> -  Dependency: <b>conj</b> -  Head: <b>Israel</b>"
      ],
      "text/plain": [
       "<IPython.core.display.HTML object>"
      ]
     },
     "metadata": {},
     "output_type": "display_data"
    },
    {
     "data": {
      "text/html": [
       "Entity: <b>Friday</b> -  Dependency: <b>pobj</b> -  Head: <b>on</b>"
      ],
      "text/plain": [
       "<IPython.core.display.HTML object>"
      ]
     },
     "metadata": {},
     "output_type": "display_data"
    },
    {
     "data": {
      "text/html": [
       "Entity: <b>Israeli</b> -  Dependency: <b>amod</b> -  Head: <b>airstrike</b>"
      ],
      "text/plain": [
       "<IPython.core.display.HTML object>"
      ]
     },
     "metadata": {},
     "output_type": "display_data"
    },
    {
     "data": {
      "text/html": [
       "Entity: <b>Iran</b> -  Dependency: <b>pobj</b> -  Head: <b>in</b>"
      ],
      "text/plain": [
       "<IPython.core.display.HTML object>"
      ]
     },
     "metadata": {},
     "output_type": "display_data"
    },
    {
     "data": {
      "text/html": [
       "Entity: <b>two</b> -  Dependency: <b>nummod</b> -  Head: <b>enemies</b>"
      ],
      "text/plain": [
       "<IPython.core.display.HTML object>"
      ]
     },
     "metadata": {},
     "output_type": "display_data"
    },
    {
     "data": {
      "text/html": [
       "Entity: <b>weeks</b> -  Dependency: <b>pobj</b> -  Head: <b>of</b>"
      ],
      "text/plain": [
       "<IPython.core.display.HTML object>"
      ]
     },
     "metadata": {},
     "output_type": "display_data"
    },
    {
     "data": {
      "text/html": [
       "Entity: <b>Israeli</b> -  Dependency: <b>amod</b> -  Head: <b>strike</b>"
      ],
      "text/plain": [
       "<IPython.core.display.HTML object>"
      ]
     },
     "metadata": {},
     "output_type": "display_data"
    },
    {
     "data": {
      "text/html": [
       "Entity: <b>two</b> -  Dependency: <b>nummod</b> -  Head: <b>generals</b>"
      ],
      "text/plain": [
       "<IPython.core.display.HTML object>"
      ]
     },
     "metadata": {},
     "output_type": "display_data"
    },
    {
     "data": {
      "text/html": [
       "Entity: <b>Iranian</b> -  Dependency: <b>amod</b> -  Head: <b>generals</b>"
      ],
      "text/plain": [
       "<IPython.core.display.HTML object>"
      ]
     },
     "metadata": {},
     "output_type": "display_data"
    },
    {
     "data": {
      "text/html": [
       "Entity: <b>Iranian</b> -  Dependency: <b>amod</b> -  Head: <b>barrage</b>"
      ],
      "text/plain": [
       "<IPython.core.display.HTML object>"
      ]
     },
     "metadata": {},
     "output_type": "display_data"
    },
    {
     "data": {
      "text/html": [
       "Entity: <b>Israel</b> -  Dependency: <b>pobj</b> -  Head: <b>on</b>"
      ],
      "text/plain": [
       "<IPython.core.display.HTML object>"
      ]
     },
     "metadata": {},
     "output_type": "display_data"
    },
    {
     "data": {
      "text/html": [
       "Entity: <b>Israeli</b> -  Dependency: <b>amod</b> -  Head: <b>strike</b>"
      ],
      "text/plain": [
       "<IPython.core.display.HTML object>"
      ]
     },
     "metadata": {},
     "output_type": "display_data"
    },
    {
     "data": {
      "text/html": [
       "Entity: <b>early Friday</b> -  Dependency: <b>npadvmod</b> -  Head: <b>strike</b>"
      ],
      "text/plain": [
       "<IPython.core.display.HTML object>"
      ]
     },
     "metadata": {},
     "output_type": "display_data"
    },
    {
     "data": {
      "text/html": [
       "Entity: <b>Iran</b> -  Dependency: <b>pobj</b> -  Head: <b>of</b>"
      ],
      "text/plain": [
       "<IPython.core.display.HTML object>"
      ]
     },
     "metadata": {},
     "output_type": "display_data"
    },
    {
     "data": {
      "text/html": [
       "Entity: <b>Amos Harel</b> -  Dependency: <b>nsubj</b> -  Head: <b>wrote</b>"
      ],
      "text/plain": [
       "<IPython.core.display.HTML object>"
      ]
     },
     "metadata": {},
     "output_type": "display_data"
    },
    {
     "data": {
      "text/html": [
       "Entity: <b>Israeli</b> -  Dependency: <b>amod</b> -  Head: <b>Haaretz</b>"
      ],
      "text/plain": [
       "<IPython.core.display.HTML object>"
      ]
     },
     "metadata": {},
     "output_type": "display_data"
    },
    {
     "data": {
      "text/html": [
       "Entity: <b>Israel</b> -  Dependency: <b>nsubj</b> -  Head: <b>considered</b>"
      ],
      "text/plain": [
       "<IPython.core.display.HTML object>"
      ]
     },
     "metadata": {},
     "output_type": "display_data"
    },
    {
     "data": {
      "text/html": [
       "Entity: <b>Iran</b> -  Dependency: <b>nsubj</b> -  Head: <b>be</b>"
      ],
      "text/plain": [
       "<IPython.core.display.HTML object>"
      ]
     },
     "metadata": {},
     "output_type": "display_data"
    },
    {
     "data": {
      "text/html": [
       "Entity: <b>the Islamic Republic’s</b> -  Dependency: <b>poss</b> -  Head: <b>calls</b>"
      ],
      "text/plain": [
       "<IPython.core.display.HTML object>"
      ]
     },
     "metadata": {},
     "output_type": "display_data"
    },
    {
     "data": {
      "text/html": [
       "Entity: <b>Israel</b> -  Dependency: <b>poss</b> -  Head: <b>destruction</b>"
      ],
      "text/plain": [
       "<IPython.core.display.HTML object>"
      ]
     },
     "metadata": {},
     "output_type": "display_data"
    },
    {
     "data": {
      "text/html": [
       "Entity: <b>the Middle East</b> -  Dependency: <b>pobj</b> -  Head: <b>across</b>"
      ],
      "text/plain": [
       "<IPython.core.display.HTML object>"
      ]
     },
     "metadata": {},
     "output_type": "display_data"
    },
    {
     "data": {
      "text/html": [
       "Entity: <b>Hamas</b> -  Dependency: <b>pobj</b> -  Head: <b>since</b>"
      ],
      "text/plain": [
       "<IPython.core.display.HTML object>"
      ]
     },
     "metadata": {},
     "output_type": "display_data"
    },
    {
     "data": {
      "text/html": [
       "Entity: <b>Islamic Jihad</b> -  Dependency: <b>conj</b> -  Head: <b>Hamas</b>"
      ],
      "text/plain": [
       "<IPython.core.display.HTML object>"
      ]
     },
     "metadata": {},
     "output_type": "display_data"
    },
    {
     "data": {
      "text/html": [
       "Entity: <b>Iranian</b> -  Dependency: <b>npadvmod</b> -  Head: <b>backed</b>"
      ],
      "text/plain": [
       "<IPython.core.display.HTML object>"
      ]
     },
     "metadata": {},
     "output_type": "display_data"
    },
    {
     "data": {
      "text/html": [
       "Entity: <b>Palestinian</b> -  Dependency: <b>amod</b> -  Head: <b>groups</b>"
      ],
      "text/plain": [
       "<IPython.core.display.HTML object>"
      ]
     },
     "metadata": {},
     "output_type": "display_data"
    },
    {
     "data": {
      "text/html": [
       "Entity: <b>Israel</b> -  Dependency: <b>dobj</b> -  Head: <b>attacked</b>"
      ],
      "text/plain": [
       "<IPython.core.display.HTML object>"
      ]
     },
     "metadata": {},
     "output_type": "display_data"
    },
    {
     "data": {
      "text/html": [
       "Entity: <b>Oct. 7</b> -  Dependency: <b>pobj</b> -  Head: <b>on</b>"
      ],
      "text/plain": [
       "<IPython.core.display.HTML object>"
      ]
     },
     "metadata": {},
     "output_type": "display_data"
    },
    {
     "data": {
      "text/html": [
       "Entity: <b>Israeli</b> -  Dependency: <b>amod</b> -  Head: <b>offensive</b>"
      ],
      "text/plain": [
       "<IPython.core.display.HTML object>"
      ]
     },
     "metadata": {},
     "output_type": "display_data"
    },
    {
     "data": {
      "text/html": [
       "Entity: <b>Gaza</b> -  Dependency: <b>pobj</b> -  Head: <b>in</b>"
      ],
      "text/plain": [
       "<IPython.core.display.HTML object>"
      ]
     },
     "metadata": {},
     "output_type": "display_data"
    },
    {
     "data": {
      "text/html": [
       "Entity: <b>more than six months</b> -  Dependency: <b>pobj</b> -  Head: <b>for</b>"
      ],
      "text/plain": [
       "<IPython.core.display.HTML object>"
      ]
     },
     "metadata": {},
     "output_type": "display_data"
    },
    {
     "data": {
      "text/html": [
       "Entity: <b>Hezbollah</b> -  Dependency: <b>nsubj</b> -  Head: <b>began</b>"
      ],
      "text/plain": [
       "<IPython.core.display.HTML object>"
      ]
     },
     "metadata": {},
     "output_type": "display_data"
    },
    {
     "data": {
      "text/html": [
       "Entity: <b>Iranian</b> -  Dependency: <b>npadvmod</b> -  Head: <b>backed</b>"
      ],
      "text/plain": [
       "<IPython.core.display.HTML object>"
      ]
     },
     "metadata": {},
     "output_type": "display_data"
    },
    {
     "data": {
      "text/html": [
       "Entity: <b>Lebanon</b> -  Dependency: <b>pobj</b> -  Head: <b>in</b>"
      ],
      "text/plain": [
       "<IPython.core.display.HTML object>"
      ]
     },
     "metadata": {},
     "output_type": "display_data"
    },
    {
     "data": {
      "text/html": [
       "Entity: <b>Israeli</b> -  Dependency: <b>amod</b> -  Head: <b>targets</b>"
      ],
      "text/plain": [
       "<IPython.core.display.HTML object>"
      ]
     },
     "metadata": {},
     "output_type": "display_data"
    },
    {
     "data": {
      "text/html": [
       "Entity: <b>second</b> -  Dependency: <b>amod</b> -  Head: <b>front</b>"
      ],
      "text/plain": [
       "<IPython.core.display.HTML object>"
      ]
     },
     "metadata": {},
     "output_type": "display_data"
    },
    {
     "data": {
      "text/html": [
       "Entity: <b>Iranian</b> -  Dependency: <b>npadvmod</b> -  Head: <b>backed</b>"
      ],
      "text/plain": [
       "<IPython.core.display.HTML object>"
      ]
     },
     "metadata": {},
     "output_type": "display_data"
    },
    {
     "data": {
      "text/html": [
       "Entity: <b>Iraq</b> -  Dependency: <b>pobj</b> -  Head: <b>in</b>"
      ],
      "text/plain": [
       "<IPython.core.display.HTML object>"
      ]
     },
     "metadata": {},
     "output_type": "display_data"
    },
    {
     "data": {
      "text/html": [
       "Entity: <b>Syria</b> -  Dependency: <b>conj</b> -  Head: <b>Iraq</b>"
      ],
      "text/plain": [
       "<IPython.core.display.HTML object>"
      ]
     },
     "metadata": {},
     "output_type": "display_data"
    },
    {
     "data": {
      "text/html": [
       "Entity: <b>Yemen</b> -  Dependency: <b>conj</b> -  Head: <b>Syria</b>"
      ],
      "text/plain": [
       "<IPython.core.display.HTML object>"
      ]
     },
     "metadata": {},
     "output_type": "display_data"
    },
    {
     "data": {
      "text/html": [
       "Entity: <b>Israel</b> -  Dependency: <b>pobj</b> -  Head: <b>at</b>"
      ],
      "text/plain": [
       "<IPython.core.display.HTML object>"
      ]
     },
     "metadata": {},
     "output_type": "display_data"
    },
    {
     "data": {
      "text/html": [
       "Entity: <b>Israel</b> -  Dependency: <b>nsubj</b> -  Head: <b>waged</b>"
      ],
      "text/plain": [
       "<IPython.core.display.HTML object>"
      ]
     },
     "metadata": {},
     "output_type": "display_data"
    },
    {
     "data": {
      "text/html": [
       "Entity: <b>Iran</b> -  Dependency: <b>conj</b> -  Head: <b>Israel</b>"
      ],
      "text/plain": [
       "<IPython.core.display.HTML object>"
      ]
     },
     "metadata": {},
     "output_type": "display_data"
    },
    {
     "data": {
      "text/html": [
       "Entity: <b>years</b> -  Dependency: <b>pobj</b> -  Head: <b>for</b>"
      ],
      "text/plain": [
       "<IPython.core.display.HTML object>"
      ]
     },
     "metadata": {},
     "output_type": "display_data"
    },
    {
     "data": {
      "text/html": [
       "Entity: <b>Syria</b> -  Dependency: <b>pobj</b> -  Head: <b>in</b>"
      ],
      "text/plain": [
       "<IPython.core.display.HTML object>"
      ]
     },
     "metadata": {},
     "output_type": "display_data"
    },
    {
     "data": {
      "text/html": [
       "Entity: <b>April 1</b> -  Dependency: <b>nmod</b> -  Head: <b>airstrike</b>"
      ],
      "text/plain": [
       "<IPython.core.display.HTML object>"
      ]
     },
     "metadata": {},
     "output_type": "display_data"
    },
    {
     "data": {
      "text/html": [
       "Entity: <b>two</b> -  Dependency: <b>nummod</b> -  Head: <b>generals</b>"
      ],
      "text/plain": [
       "<IPython.core.display.HTML object>"
      ]
     },
     "metadata": {},
     "output_type": "display_data"
    },
    {
     "data": {
      "text/html": [
       "Entity: <b>Iranian</b> -  Dependency: <b>amod</b> -  Head: <b>generals</b>"
      ],
      "text/plain": [
       "<IPython.core.display.HTML object>"
      ]
     },
     "metadata": {},
     "output_type": "display_data"
    },
    {
     "data": {
      "text/html": [
       "Entity: <b>Iranian</b> -  Dependency: <b>amod</b> -  Head: <b>compound</b>"
      ],
      "text/plain": [
       "<IPython.core.display.HTML object>"
      ]
     },
     "metadata": {},
     "output_type": "display_data"
    },
    {
     "data": {
      "text/html": [
       "Entity: <b>Syrian</b> -  Dependency: <b>amod</b> -  Head: <b>capital</b>"
      ],
      "text/plain": [
       "<IPython.core.display.HTML object>"
      ]
     },
     "metadata": {},
     "output_type": "display_data"
    },
    {
     "data": {
      "text/html": [
       "Entity: <b>Damascus</b> -  Dependency: <b>pobj</b> -  Head: <b>of</b>"
      ],
      "text/plain": [
       "<IPython.core.display.HTML object>"
      ]
     },
     "metadata": {},
     "output_type": "display_data"
    },
    {
     "data": {
      "text/html": [
       "Entity: <b>Israel</b> -  Dependency: <b>nsubj</b> -  Head: <b>comment</b>"
      ],
      "text/plain": [
       "<IPython.core.display.HTML object>"
      ]
     },
     "metadata": {},
     "output_type": "display_data"
    },
    {
     "data": {
      "text/html": [
       "Entity: <b>Iran</b> -  Dependency: <b>nsubj</b> -  Head: <b>blamed</b>"
      ],
      "text/plain": [
       "<IPython.core.display.HTML object>"
      ]
     },
     "metadata": {},
     "output_type": "display_data"
    },
    {
     "data": {
      "text/html": [
       "Entity: <b>Israel</b> -  Dependency: <b>dobj</b> -  Head: <b>blamed</b>"
      ],
      "text/plain": [
       "<IPython.core.display.HTML object>"
      ]
     },
     "metadata": {},
     "output_type": "display_data"
    },
    {
     "data": {
      "text/html": [
       "Entity: <b>Iran</b> -  Dependency: <b>nsubj</b> -  Head: <b>responded</b>"
      ],
      "text/plain": [
       "<IPython.core.display.HTML object>"
      ]
     },
     "metadata": {},
     "output_type": "display_data"
    },
    {
     "data": {
      "text/html": [
       "Entity: <b>first</b> -  Dependency: <b>amod</b> -  Head: <b>attack</b>"
      ],
      "text/plain": [
       "<IPython.core.display.HTML object>"
      ]
     },
     "metadata": {},
     "output_type": "display_data"
    },
    {
     "data": {
      "text/html": [
       "Entity: <b>Israel</b> -  Dependency: <b>pobj</b> -  Head: <b>on</b>"
      ],
      "text/plain": [
       "<IPython.core.display.HTML object>"
      ]
     },
     "metadata": {},
     "output_type": "display_data"
    },
    {
     "data": {
      "text/html": [
       "Entity: <b>300</b> -  Dependency: <b>nummod</b> -  Head: <b>missiles</b>"
      ],
      "text/plain": [
       "<IPython.core.display.HTML object>"
      ]
     },
     "metadata": {},
     "output_type": "display_data"
    },
    {
     "data": {
      "text/html": [
       "Entity: <b>late Saturday night</b> -  Dependency: <b>npadvmod</b> -  Head: <b>launching</b>"
      ],
      "text/plain": [
       "<IPython.core.display.HTML object>"
      ]
     },
     "metadata": {},
     "output_type": "display_data"
    },
    {
     "data": {
      "text/html": [
       "Entity: <b>Israel</b> -  Dependency: <b>nsubj</b> -  Head: <b>said</b>"
      ],
      "text/plain": [
       "<IPython.core.display.HTML object>"
      ]
     },
     "metadata": {},
     "output_type": "display_data"
    },
    {
     "data": {
      "text/html": [
       "Entity: <b>99%</b> -  Dependency: <b>dobj</b> -  Head: <b>intercepted</b>"
      ],
      "text/plain": [
       "<IPython.core.display.HTML object>"
      ]
     },
     "metadata": {},
     "output_type": "display_data"
    },
    {
     "data": {
      "text/html": [
       "Entity: <b>Israeli</b> -  Dependency: <b>amod</b> -  Head: <b>base</b>"
      ],
      "text/plain": [
       "<IPython.core.display.HTML object>"
      ]
     },
     "metadata": {},
     "output_type": "display_data"
    },
    {
     "data": {
      "text/html": [
       "Entity: <b>Friday</b> -  Dependency: <b>poss</b> -  Head: <b>attack</b>"
      ],
      "text/plain": [
       "<IPython.core.display.HTML object>"
      ]
     },
     "metadata": {},
     "output_type": "display_data"
    },
    {
     "data": {
      "text/html": [
       "Entity: <b>Iranian</b> -  Dependency: <b>amod</b> -  Head: <b>television</b>"
      ],
      "text/plain": [
       "<IPython.core.display.HTML object>"
      ]
     },
     "metadata": {},
     "output_type": "display_data"
    },
    {
     "data": {
      "text/html": [
       "Entity: <b>Iranian</b> -  Dependency: <b>amod</b> -  Head: <b>commander</b>"
      ],
      "text/plain": [
       "<IPython.core.display.HTML object>"
      ]
     },
     "metadata": {},
     "output_type": "display_data"
    },
    {
     "data": {
      "text/html": [
       "Entity: <b>Abdolrahim Mousavi</b> -  Dependency: <b>nsubj</b> -  Head: <b>said</b>"
      ],
      "text/plain": [
       "<IPython.core.display.HTML object>"
      ]
     },
     "metadata": {},
     "output_type": "display_data"
    },
    {
     "data": {
      "text/html": [
       "Entity: <b>this morning</b> -  Dependency: <b>npadvmod</b> -  Head: <b>explosion</b>"
      ],
      "text/plain": [
       "<IPython.core.display.HTML object>"
      ]
     },
     "metadata": {},
     "output_type": "display_data"
    },
    {
     "data": {
      "text/html": [
       "Entity: <b>Isfahan</b> -  Dependency: <b>pobj</b> -  Head: <b>of</b>"
      ],
      "text/plain": [
       "<IPython.core.display.HTML object>"
      ]
     },
     "metadata": {},
     "output_type": "display_data"
    },
    {
     "data": {
      "text/html": [
       "Entity: <b>Mousavi</b> -  Dependency: <b>nsubj</b> -  Head: <b>said</b>"
      ],
      "text/plain": [
       "<IPython.core.display.HTML object>"
      ]
     },
     "metadata": {},
     "output_type": "display_data"
    },
    {
     "data": {
      "text/html": [
       "Entity: <b>Authorities</b> -  Dependency: <b>nsubj</b> -  Head: <b>said</b>"
      ],
      "text/plain": [
       "<IPython.core.display.HTML object>"
      ]
     },
     "metadata": {},
     "output_type": "display_data"
    },
    {
     "data": {
      "text/html": [
       "Entity: <b>Isfahan</b> -  Dependency: <b>pobj</b> -  Head: <b>near</b>"
      ],
      "text/plain": [
       "<IPython.core.display.HTML object>"
      ]
     },
     "metadata": {},
     "output_type": "display_data"
    },
    {
     "data": {
      "text/html": [
       "Entity: <b>Iran</b> -  Dependency: <b>poss</b> -  Head: <b>fleet</b>"
      ],
      "text/plain": [
       "<IPython.core.display.HTML object>"
      ]
     },
     "metadata": {},
     "output_type": "display_data"
    },
    {
     "data": {
      "text/html": [
       "Entity: <b>American</b> -  Dependency: <b>npadvmod</b> -  Head: <b>made</b>"
      ],
      "text/plain": [
       "<IPython.core.display.HTML object>"
      ]
     },
     "metadata": {},
     "output_type": "display_data"
    },
    {
     "data": {
      "text/html": [
       "Entity: <b>F-14</b> -  Dependency: <b>compound</b> -  Head: <b>Tomcats</b>"
      ],
      "text/plain": [
       "<IPython.core.display.HTML object>"
      ]
     },
     "metadata": {},
     "output_type": "display_data"
    },
    {
     "data": {
      "text/html": [
       "Entity: <b>1979</b> -  Dependency: <b>nummod</b> -  Head: <b>Revolution</b>"
      ],
      "text/plain": [
       "<IPython.core.display.HTML object>"
      ]
     },
     "metadata": {},
     "output_type": "display_data"
    },
    {
     "data": {
      "text/html": [
       "Entity: <b>Islamic Revolution</b> -  Dependency: <b>pobj</b> -  Head: <b>before</b>"
      ],
      "text/plain": [
       "<IPython.core.display.HTML object>"
      ]
     },
     "metadata": {},
     "output_type": "display_data"
    },
    {
     "data": {
      "text/html": [
       "Entity: <b>Isfahan</b> -  Dependency: <b>nsubj</b> -  Head: <b>is</b>"
      ],
      "text/plain": [
       "<IPython.core.display.HTML object>"
      ]
     },
     "metadata": {},
     "output_type": "display_data"
    },
    {
     "data": {
      "text/html": [
       "Entity: <b>Iran</b> -  Dependency: <b>poss</b> -  Head: <b>program</b>"
      ],
      "text/plain": [
       "<IPython.core.display.HTML object>"
      ]
     },
     "metadata": {},
     "output_type": "display_data"
    },
    {
     "data": {
      "text/html": [
       "Entity: <b>Natanz</b> -  Dependency: <b>compound</b> -  Head: <b>site</b>"
      ],
      "text/plain": [
       "<IPython.core.display.HTML object>"
      ]
     },
     "metadata": {},
     "output_type": "display_data"
    },
    {
     "data": {
      "text/html": [
       "Entity: <b>Israeli</b> -  Dependency: <b>amod</b> -  Head: <b>attacks</b>"
      ],
      "text/plain": [
       "<IPython.core.display.HTML object>"
      ]
     },
     "metadata": {},
     "output_type": "display_data"
    },
    {
     "data": {
      "text/html": [
       "Entity: <b>Friday</b> -  Dependency: <b>npadvmod</b> -  Head: <b>came</b>"
      ],
      "text/plain": [
       "<IPython.core.display.HTML object>"
      ]
     },
     "metadata": {},
     "output_type": "display_data"
    },
    {
     "data": {
      "text/html": [
       "Entity: <b>Iranian</b> -  Dependency: <b>amod</b> -  Head: <b>Leader</b>"
      ],
      "text/plain": [
       "<IPython.core.display.HTML object>"
      ]
     },
     "metadata": {},
     "output_type": "display_data"
    },
    {
     "data": {
      "text/html": [
       "Entity: <b>Ayatollah Ali Khamenei</b> -  Dependency: <b>poss</b> -  Head: <b>birthday</b>"
      ],
      "text/plain": [
       "<IPython.core.display.HTML object>"
      ]
     },
     "metadata": {},
     "output_type": "display_data"
    },
    {
     "data": {
      "text/html": [
       "Entity: <b>85th</b> -  Dependency: <b>amod</b> -  Head: <b>birthday</b>"
      ],
      "text/plain": [
       "<IPython.core.display.HTML object>"
      ]
     },
     "metadata": {},
     "output_type": "display_data"
    },
    {
     "data": {
      "text/html": [
       "Entity: <b>Iranian</b> -  Dependency: <b>amod</b> -  Head: <b>sites</b>"
      ],
      "text/plain": [
       "<IPython.core.display.HTML object>"
      ]
     },
     "metadata": {},
     "output_type": "display_data"
    },
    {
     "data": {
      "text/html": [
       "Entity: <b>The United Nations</b> -  Dependency: <b>poss</b> -  Head: <b>watchdog</b>"
      ],
      "text/plain": [
       "<IPython.core.display.HTML object>"
      ]
     },
     "metadata": {},
     "output_type": "display_data"
    },
    {
     "data": {
      "text/html": [
       "Entity: <b>the International Atomic Energy Agency</b> -  Dependency: <b>appos</b> -  Head: <b>watchdog</b>"
      ],
      "text/plain": [
       "<IPython.core.display.HTML object>"
      ]
     },
     "metadata": {},
     "output_type": "display_data"
    },
    {
     "data": {
      "text/html": [
       "Entity: <b>Iran</b> -  Dependency: <b>poss</b> -  Head: <b>sites</b>"
      ],
      "text/plain": [
       "<IPython.core.display.HTML object>"
      ]
     },
     "metadata": {},
     "output_type": "display_data"
    },
    {
     "data": {
      "text/html": [
       "Entity: <b>Iranian</b> -  Dependency: <b>amod</b> -  Head: <b>officials</b>"
      ],
      "text/plain": [
       "<IPython.core.display.HTML object>"
      ]
     },
     "metadata": {},
     "output_type": "display_data"
    },
    {
     "data": {
      "text/html": [
       "Entity: <b>Israeli</b> -  Dependency: <b>amod</b> -  Head: <b>involvement</b>"
      ],
      "text/plain": [
       "<IPython.core.display.HTML object>"
      ]
     },
     "metadata": {},
     "output_type": "display_data"
    },
    {
     "data": {
      "text/html": [
       "Entity: <b>Iranian</b> -  Dependency: <b>amod</b> -  Head: <b>officials</b>"
      ],
      "text/plain": [
       "<IPython.core.display.HTML object>"
      ]
     },
     "metadata": {},
     "output_type": "display_data"
    },
    {
     "data": {
      "text/html": [
       "Entity: <b>days</b> -  Dependency: <b>pobj</b> -  Head: <b>for</b>"
      ],
      "text/plain": [
       "<IPython.core.display.HTML object>"
      ]
     },
     "metadata": {},
     "output_type": "display_data"
    },
    {
     "data": {
      "text/html": [
       "Entity: <b>Israeli</b> -  Dependency: <b>amod</b> -  Head: <b>attack</b>"
      ],
      "text/plain": [
       "<IPython.core.display.HTML object>"
      ]
     },
     "metadata": {},
     "output_type": "display_data"
    },
    {
     "data": {
      "text/html": [
       "Entity: <b>Israel</b> -  Dependency: <b>nsubj</b> -  Head: <b>had</b>"
      ],
      "text/plain": [
       "<IPython.core.display.HTML object>"
      ]
     },
     "metadata": {},
     "output_type": "display_data"
    },
    {
     "data": {
      "text/html": [
       "Entity: <b>one</b> -  Dependency: <b>nummod</b> -  Head: <b>minister</b>"
      ],
      "text/plain": [
       "<IPython.core.display.HTML object>"
      ]
     },
     "metadata": {},
     "output_type": "display_data"
    },
    {
     "data": {
      "text/html": [
       "Entity: <b>Itamar Ben-Gvir</b> -  Dependency: <b>appos</b> -  Head: <b>minister</b>"
      ],
      "text/plain": [
       "<IPython.core.display.HTML object>"
      ]
     },
     "metadata": {},
     "output_type": "display_data"
    },
    {
     "data": {
      "text/html": [
       "Entity: <b>one</b> -  Dependency: <b>nummod</b> -  Head: <b>word</b>"
      ],
      "text/plain": [
       "<IPython.core.display.HTML object>"
      ]
     },
     "metadata": {},
     "output_type": "display_data"
    },
    {
     "data": {
      "text/html": [
       "Entity: <b>early Friday</b> -  Dependency: <b>npadvmod</b> -  Head: <b>hinted</b>"
      ],
      "text/plain": [
       "<IPython.core.display.HTML object>"
      ]
     },
     "metadata": {},
     "output_type": "display_data"
    },
    {
     "data": {
      "text/html": [
       "Entity: <b>Italy</b> -  Dependency: <b>poss</b> -  Head: <b>minister</b>"
      ],
      "text/plain": [
       "<IPython.core.display.HTML object>"
      ]
     },
     "metadata": {},
     "output_type": "display_data"
    },
    {
     "data": {
      "text/html": [
       "Entity: <b>Antonio Tajani</b> -  Dependency: <b>appos</b> -  Head: <b>minister</b>"
      ],
      "text/plain": [
       "<IPython.core.display.HTML object>"
      ]
     },
     "metadata": {},
     "output_type": "display_data"
    },
    {
     "data": {
      "text/html": [
       "Entity: <b>Western</b> -  Dependency: <b>amod</b> -  Head: <b>leaders</b>"
      ],
      "text/plain": [
       "<IPython.core.display.HTML object>"
      ]
     },
     "metadata": {},
     "output_type": "display_data"
    },
    {
     "data": {
      "text/html": [
       "Entity: <b>Capri</b> -  Dependency: <b>pobj</b> -  Head: <b>in</b>"
      ],
      "text/plain": [
       "<IPython.core.display.HTML object>"
      ]
     },
     "metadata": {},
     "output_type": "display_data"
    },
    {
     "data": {
      "text/html": [
       "Entity: <b>U.S.</b> -  Dependency: <b>nsubj</b> -  Head: <b>received</b>"
      ],
      "text/plain": [
       "<IPython.core.display.HTML object>"
      ]
     },
     "metadata": {},
     "output_type": "display_data"
    },
    {
     "data": {
      "text/html": [
       "Entity: <b>last-minute</b> -  Dependency: <b>nmod</b> -  Head: <b>information</b>"
      ],
      "text/plain": [
       "<IPython.core.display.HTML object>"
      ]
     },
     "metadata": {},
     "output_type": "display_data"
    },
    {
     "data": {
      "text/html": [
       "Entity: <b>Israel</b> -  Dependency: <b>pobj</b> -  Head: <b>from</b>"
      ],
      "text/plain": [
       "<IPython.core.display.HTML object>"
      ]
     },
     "metadata": {},
     "output_type": "display_data"
    },
    {
     "data": {
      "text/html": [
       "Entity: <b>U.S.</b> -  Dependency: <b>nmod</b> -  Head: <b>Secretary</b>"
      ],
      "text/plain": [
       "<IPython.core.display.HTML object>"
      ]
     },
     "metadata": {},
     "output_type": "display_data"
    },
    {
     "data": {
      "text/html": [
       "Entity: <b>State</b> -  Dependency: <b>pobj</b> -  Head: <b>of</b>"
      ],
      "text/plain": [
       "<IPython.core.display.HTML object>"
      ]
     },
     "metadata": {},
     "output_type": "display_data"
    },
    {
     "data": {
      "text/html": [
       "Entity: <b>Antony Blinken</b> -  Dependency: <b>nsubj</b> -  Head: <b>dispute</b>"
      ],
      "text/plain": [
       "<IPython.core.display.HTML object>"
      ]
     },
     "metadata": {},
     "output_type": "display_data"
    },
    {
     "data": {
      "text/html": [
       "Entity: <b>Yoel Guzansky</b> -  Dependency: <b>nsubj</b> -  Head: <b>said</b>"
      ],
      "text/plain": [
       "<IPython.core.display.HTML object>"
      ]
     },
     "metadata": {},
     "output_type": "display_data"
    },
    {
     "data": {
      "text/html": [
       "Entity: <b>Iran</b> -  Dependency: <b>compound</b> -  Head: <b>expert</b>"
      ],
      "text/plain": [
       "<IPython.core.display.HTML object>"
      ]
     },
     "metadata": {},
     "output_type": "display_data"
    },
    {
     "data": {
      "text/html": [
       "Entity: <b>Israeli</b> -  Dependency: <b>amod</b> -  Head: <b>minister</b>"
      ],
      "text/plain": [
       "<IPython.core.display.HTML object>"
      ]
     },
     "metadata": {},
     "output_type": "display_data"
    },
    {
     "data": {
      "text/html": [
       "Entity: <b>Israel</b> -  Dependency: <b>nsubj</b> -  Head: <b>appears</b>"
      ],
      "text/plain": [
       "<IPython.core.display.HTML object>"
      ]
     },
     "metadata": {},
     "output_type": "display_data"
    },
    {
     "data": {
      "text/html": [
       "Entity: <b>Iran</b> -  Dependency: <b>pobj</b> -  Head: <b>to</b>"
      ],
      "text/plain": [
       "<IPython.core.display.HTML object>"
      ]
     },
     "metadata": {},
     "output_type": "display_data"
    },
    {
     "data": {
      "text/html": [
       "Entity: <b>the United States</b> -  Dependency: <b>dobj</b> -  Head: <b>upset</b>"
      ],
      "text/plain": [
       "<IPython.core.display.HTML object>"
      ]
     },
     "metadata": {},
     "output_type": "display_data"
    },
    {
     "data": {
      "text/html": [
       "Entity: <b>Iranian</b> -  Dependency: <b>amod</b> -  Head: <b>retaliation</b>"
      ],
      "text/plain": [
       "<IPython.core.display.HTML object>"
      ]
     },
     "metadata": {},
     "output_type": "display_data"
    },
    {
     "data": {
      "text/html": [
       "Entity: <b>Iran</b> -  Dependency: <b>pobj</b> -  Head: <b>of</b>"
      ],
      "text/plain": [
       "<IPython.core.display.HTML object>"
      ]
     },
     "metadata": {},
     "output_type": "display_data"
    },
    {
     "data": {
      "text/html": [
       "Entity: <b>Guzansky</b> -  Dependency: <b>nsubj</b> -  Head: <b>said</b>"
      ],
      "text/plain": [
       "<IPython.core.display.HTML object>"
      ]
     },
     "metadata": {},
     "output_type": "display_data"
    },
    {
     "data": {
      "text/html": [
       "Entity: <b>the Institute for National Security Studies</b> -  Dependency: <b>pobj</b> -  Head: <b>at</b>"
      ],
      "text/plain": [
       "<IPython.core.display.HTML object>"
      ]
     },
     "metadata": {},
     "output_type": "display_data"
    },
    {
     "data": {
      "text/html": [
       "Entity: <b>Tel Aviv</b> -  Dependency: <b>compound</b> -  Head: <b>tank</b>"
      ],
      "text/plain": [
       "<IPython.core.display.HTML object>"
      ]
     },
     "metadata": {},
     "output_type": "display_data"
    },
    {
     "data": {
      "text/html": [
       "Entity: <b>Israel</b> -  Dependency: <b>nsubj</b> -  Head: <b>facing</b>"
      ],
      "text/plain": [
       "<IPython.core.display.HTML object>"
      ]
     },
     "metadata": {},
     "output_type": "display_data"
    },
    {
     "data": {
      "text/html": [
       "Entity: <b>Iranian</b> -  Dependency: <b>npadvmod</b> -  Head: <b>backed</b>"
      ],
      "text/plain": [
       "<IPython.core.display.HTML object>"
      ]
     },
     "metadata": {},
     "output_type": "display_data"
    },
    {
     "data": {
      "text/html": [
       "Entity: <b>Iran</b> -  Dependency: <b>nsubj</b> -  Head: <b>surprises</b>"
      ],
      "text/plain": [
       "<IPython.core.display.HTML object>"
      ]
     },
     "metadata": {},
     "output_type": "display_data"
    },
    {
     "data": {
      "text/html": [
       "Entity: <b>Israel</b> -  Dependency: <b>dobj</b> -  Head: <b>surprises</b>"
      ],
      "text/plain": [
       "<IPython.core.display.HTML object>"
      ]
     },
     "metadata": {},
     "output_type": "display_data"
    },
    {
     "data": {
      "text/html": [
       "Entity: <b>Israel</b> -  Dependency: <b>poss</b> -  Head: <b>defense</b>"
      ],
      "text/plain": [
       "<IPython.core.display.HTML object>"
      ]
     },
     "metadata": {},
     "output_type": "display_data"
    },
    {
     "data": {
      "text/html": [
       "Entity: <b>U.N.</b> -  Dependency: <b>compound</b> -  Head: <b>General</b>"
      ],
      "text/plain": [
       "<IPython.core.display.HTML object>"
      ]
     },
     "metadata": {},
     "output_type": "display_data"
    },
    {
     "data": {
      "text/html": [
       "Entity: <b>Antonio Guterres</b> -  Dependency: <b>nsubj</b> -  Head: <b>called</b>"
      ],
      "text/plain": [
       "<IPython.core.display.HTML object>"
      ]
     },
     "metadata": {},
     "output_type": "display_data"
    },
    {
     "data": {
      "text/html": [
       "Entity: <b>the Middle East</b> -  Dependency: <b>pobj</b> -  Head: <b>in</b>"
      ],
      "text/plain": [
       "<IPython.core.display.HTML object>"
      ]
     },
     "metadata": {},
     "output_type": "display_data"
    },
    {
     "data": {
      "text/html": [
       "Entity: <b>Charles Lister</b> -  Dependency: <b>nsubj</b> -  Head: <b>challenged</b>"
      ],
      "text/plain": [
       "<IPython.core.display.HTML object>"
      ]
     },
     "metadata": {},
     "output_type": "display_data"
    },
    {
     "data": {
      "text/html": [
       "Entity: <b>Washington</b> -  Dependency: <b>npadvmod</b> -  Head: <b>based</b>"
      ],
      "text/plain": [
       "<IPython.core.display.HTML object>"
      ]
     },
     "metadata": {},
     "output_type": "display_data"
    },
    {
     "data": {
      "text/html": [
       "Entity: <b>Middle East Institute</b> -  Dependency: <b>pobj</b> -  Head: <b>at</b>"
      ],
      "text/plain": [
       "<IPython.core.display.HTML object>"
      ]
     },
     "metadata": {},
     "output_type": "display_data"
    },
    {
     "data": {
      "text/html": [
       "Entity: <b>Iran</b> -  Dependency: <b>poss</b> -  Head: <b>claims</b>"
      ],
      "text/plain": [
       "<IPython.core.display.HTML object>"
      ]
     },
     "metadata": {},
     "output_type": "display_data"
    },
    {
     "data": {
      "text/html": [
       "Entity: <b>Israeli</b> -  Dependency: <b>amod</b> -  Head: <b>aircraft</b>"
      ],
      "text/plain": [
       "<IPython.core.display.HTML object>"
      ]
     },
     "metadata": {},
     "output_type": "display_data"
    },
    {
     "data": {
      "text/html": [
       "Entity: <b>Israel</b> -  Dependency: <b>pobj</b> -  Head: <b>from</b>"
      ],
      "text/plain": [
       "<IPython.core.display.HTML object>"
      ]
     },
     "metadata": {},
     "output_type": "display_data"
    },
    {
     "data": {
      "text/html": [
       "Entity: <b>Syria</b> -  Dependency: <b>pobj</b> -  Head: <b>over</b>"
      ],
      "text/plain": [
       "<IPython.core.display.HTML object>"
      ]
     },
     "metadata": {},
     "output_type": "display_data"
    },
    {
     "data": {
      "text/html": [
       "Entity: <b>at least two</b> -  Dependency: <b>nummod</b> -  Head: <b>bases</b>"
      ],
      "text/plain": [
       "<IPython.core.display.HTML object>"
      ]
     },
     "metadata": {},
     "output_type": "display_data"
    },
    {
     "data": {
      "text/html": [
       "Entity: <b>Syria</b> -  Dependency: <b>compound</b> -  Head: <b>bases</b>"
      ],
      "text/plain": [
       "<IPython.core.display.HTML object>"
      ]
     },
     "metadata": {},
     "output_type": "display_data"
    },
    {
     "data": {
      "text/html": [
       "Entity: <b>Iraqi</b> -  Dependency: <b>amod</b> -  Head: <b>airspace</b>"
      ],
      "text/plain": [
       "<IPython.core.display.HTML object>"
      ]
     },
     "metadata": {},
     "output_type": "display_data"
    },
    {
     "data": {
      "text/html": [
       "Entity: <b>Blue Sparrow</b> -  Dependency: <b>compound</b> -  Head: <b>missiles</b>"
      ],
      "text/plain": [
       "<IPython.core.display.HTML object>"
      ]
     },
     "metadata": {},
     "output_type": "display_data"
    },
    {
     "data": {
      "text/html": [
       "Entity: <b>Iranian</b> -  Dependency: <b>amod</b> -  Head: <b>airspace</b>"
      ],
      "text/plain": [
       "<IPython.core.display.HTML object>"
      ]
     },
     "metadata": {},
     "output_type": "display_data"
    },
    {
     "data": {
      "text/html": [
       "Entity: <b>Lister</b> -  Dependency: <b>nsubj</b> -  Head: <b>said</b>"
      ],
      "text/plain": [
       "<IPython.core.display.HTML object>"
      ]
     },
     "metadata": {},
     "output_type": "display_data"
    },
    {
     "data": {
      "text/html": [
       "Entity: <b>Iraq</b> -  Dependency: <b>pobj</b> -  Head: <b>over</b>"
      ],
      "text/plain": [
       "<IPython.core.display.HTML object>"
      ]
     },
     "metadata": {},
     "output_type": "display_data"
    },
    {
     "data": {
      "text/html": [
       "Entity: <b>Israeli</b> -  Dependency: <b>amod</b> -  Head: <b>made</b>"
      ],
      "text/plain": [
       "<IPython.core.display.HTML object>"
      ]
     },
     "metadata": {},
     "output_type": "display_data"
    },
    {
     "data": {
      "text/html": [
       "Entity: <b>Blue Sparrow</b> -  Dependency: <b>compound</b> -  Head: <b>missile</b>"
      ],
      "text/plain": [
       "<IPython.core.display.HTML object>"
      ]
     },
     "metadata": {},
     "output_type": "display_data"
    },
    {
     "data": {
      "text/html": [
       "Entity: <b>Iraqi</b> -  Dependency: <b>amod</b> -  Head: <b>security</b>"
      ],
      "text/plain": [
       "<IPython.core.display.HTML object>"
      ]
     },
     "metadata": {},
     "output_type": "display_data"
    },
    {
     "data": {
      "text/html": [
       "Entity: <b>Baghdad</b> -  Dependency: <b>pobj</b> -  Head: <b>outside</b>"
      ],
      "text/plain": [
       "<IPython.core.display.HTML object>"
      ]
     },
     "metadata": {},
     "output_type": "display_data"
    },
    {
     "data": {
      "text/html": [
       "Entity: <b>Lister</b> -  Dependency: <b>nsubj</b> -  Head: <b>said</b>"
      ],
      "text/plain": [
       "<IPython.core.display.HTML object>"
      ]
     },
     "metadata": {},
     "output_type": "display_data"
    },
    {
     "data": {
      "text/html": [
       "Entity: <b>Israelis</b> -  Dependency: <b>nsubj</b> -  Head: <b>needed</b>"
      ],
      "text/plain": [
       "<IPython.core.display.HTML object>"
      ]
     },
     "metadata": {},
     "output_type": "display_data"
    },
    {
     "data": {
      "text/html": [
       "Entity: <b>Iranian</b> -  Dependency: <b>amod</b> -  Head: <b>airspace</b>"
      ],
      "text/plain": [
       "<IPython.core.display.HTML object>"
      ]
     },
     "metadata": {},
     "output_type": "display_data"
    },
    {
     "data": {
      "text/html": [
       "Entity: <b>Israel</b> -  Dependency: <b>poss</b> -  Head: <b>way</b>"
      ],
      "text/plain": [
       "<IPython.core.display.HTML object>"
      ]
     },
     "metadata": {},
     "output_type": "display_data"
    },
    {
     "data": {
      "text/html": [
       "Entity: <b>Israel</b> -  Dependency: <b>nsubj</b> -  Head: <b>return</b>"
      ],
      "text/plain": [
       "<IPython.core.display.HTML object>"
      ]
     },
     "metadata": {},
     "output_type": "display_data"
    },
    {
     "data": {
      "text/html": [
       "Entity: <b>Gaza</b> -  Dependency: <b>pobj</b> -  Head: <b>in</b>"
      ],
      "text/plain": [
       "<IPython.core.display.HTML object>"
      ]
     },
     "metadata": {},
     "output_type": "display_data"
    },
    {
     "data": {
      "text/html": [
       "Entity: <b>Hezbollah</b> -  Dependency: <b>pobj</b> -  Head: <b>with</b>"
      ],
      "text/plain": [
       "<IPython.core.display.HTML object>"
      ]
     },
     "metadata": {},
     "output_type": "display_data"
    },
    {
     "data": {
      "text/html": [
       "Entity: <b>Iran</b> -  Dependency: <b>pobj</b> -  Head: <b>with</b>"
      ],
      "text/plain": [
       "<IPython.core.display.HTML object>"
      ]
     },
     "metadata": {},
     "output_type": "display_data"
    },
    {
     "data": {
      "text/html": [
       "Entity: <b>Friday</b> -  Dependency: <b>poss</b> -  Head: <b>attack</b>"
      ],
      "text/plain": [
       "<IPython.core.display.HTML object>"
      ]
     },
     "metadata": {},
     "output_type": "display_data"
    },
    {
     "data": {
      "text/html": [
       "Entity: <b>Israeli</b> -  Dependency: <b>amod</b> -  Head: <b>attack</b>"
      ],
      "text/plain": [
       "<IPython.core.display.HTML object>"
      ]
     },
     "metadata": {},
     "output_type": "display_data"
    },
    {
     "data": {
      "text/html": [
       "Entity: <b>Alex Vatanka</b> -  Dependency: <b>nsubj</b> -  Head: <b>said</b>"
      ],
      "text/plain": [
       "<IPython.core.display.HTML object>"
      ]
     },
     "metadata": {},
     "output_type": "display_data"
    },
    {
     "data": {
      "text/html": [
       "Entity: <b>Iran</b> -  Dependency: <b>compound</b> -  Head: <b>program</b>"
      ],
      "text/plain": [
       "<IPython.core.display.HTML object>"
      ]
     },
     "metadata": {},
     "output_type": "display_data"
    },
    {
     "data": {
      "text/html": [
       "Entity: <b>the Middle East Institute</b> -  Dependency: <b>pobj</b> -  Head: <b>at</b>"
      ],
      "text/plain": [
       "<IPython.core.display.HTML object>"
      ]
     },
     "metadata": {},
     "output_type": "display_data"
    }
   ],
   "source": [
    "for ent in doc.ents:\n",
    "    display(HTML(f\"Entity: <b>{ent.text}</b> -  Dependency: <b>{ent.root.dep_}</b> -  Head: <b>{ent.root.head.text}</b>\"))"
   ]
  },
  {
   "cell_type": "markdown",
   "metadata": {},
   "source": [
    "# 6. Find the most similar words in the article"
   ]
  },
  {
   "cell_type": "code",
   "execution_count": 61,
   "metadata": {
    "scrolled": true
   },
   "outputs": [
    {
     "name": "stdout",
     "output_type": "stream",
     "text": [
      "Collecting en-core-web-lg==3.7.1\n",
      "  Downloading https://github.com/explosion/spacy-models/releases/download/en_core_web_lg-3.7.1/en_core_web_lg-3.7.1-py3-none-any.whl (587.7 MB)\n",
      "\u001b[2K     \u001b[90m━━━━━━━━━━━━━━━━━━━━━━━━━━━━━━━━━━━━━━━\u001b[0m \u001b[32m587.7/587.7 MB\u001b[0m \u001b[31m7.1 MB/s\u001b[0m eta \u001b[36m0:00:00\u001b[0m00:01\u001b[0m00:02\u001b[0m\n",
      "\u001b[?25hRequirement already satisfied: spacy<3.8.0,>=3.7.2 in /opt/anaconda3/lib/python3.11/site-packages (from en-core-web-lg==3.7.1) (3.7.4)\n",
      "Requirement already satisfied: spacy-legacy<3.1.0,>=3.0.11 in /opt/anaconda3/lib/python3.11/site-packages (from spacy<3.8.0,>=3.7.2->en-core-web-lg==3.7.1) (3.0.12)\n",
      "Requirement already satisfied: spacy-loggers<2.0.0,>=1.0.0 in /opt/anaconda3/lib/python3.11/site-packages (from spacy<3.8.0,>=3.7.2->en-core-web-lg==3.7.1) (1.0.5)\n",
      "Requirement already satisfied: murmurhash<1.1.0,>=0.28.0 in /opt/anaconda3/lib/python3.11/site-packages (from spacy<3.8.0,>=3.7.2->en-core-web-lg==3.7.1) (1.0.10)\n",
      "Requirement already satisfied: cymem<2.1.0,>=2.0.2 in /opt/anaconda3/lib/python3.11/site-packages (from spacy<3.8.0,>=3.7.2->en-core-web-lg==3.7.1) (2.0.8)\n",
      "Requirement already satisfied: preshed<3.1.0,>=3.0.2 in /opt/anaconda3/lib/python3.11/site-packages (from spacy<3.8.0,>=3.7.2->en-core-web-lg==3.7.1) (3.0.9)\n",
      "Requirement already satisfied: thinc<8.3.0,>=8.2.2 in /opt/anaconda3/lib/python3.11/site-packages (from spacy<3.8.0,>=3.7.2->en-core-web-lg==3.7.1) (8.2.3)\n",
      "Requirement already satisfied: wasabi<1.2.0,>=0.9.1 in /opt/anaconda3/lib/python3.11/site-packages (from spacy<3.8.0,>=3.7.2->en-core-web-lg==3.7.1) (1.1.2)\n",
      "Requirement already satisfied: srsly<3.0.0,>=2.4.3 in /opt/anaconda3/lib/python3.11/site-packages (from spacy<3.8.0,>=3.7.2->en-core-web-lg==3.7.1) (2.4.8)\n",
      "Requirement already satisfied: catalogue<2.1.0,>=2.0.6 in /opt/anaconda3/lib/python3.11/site-packages (from spacy<3.8.0,>=3.7.2->en-core-web-lg==3.7.1) (2.0.10)\n",
      "Requirement already satisfied: weasel<0.4.0,>=0.1.0 in /opt/anaconda3/lib/python3.11/site-packages (from spacy<3.8.0,>=3.7.2->en-core-web-lg==3.7.1) (0.3.4)\n",
      "Requirement already satisfied: typer<0.10.0,>=0.3.0 in /opt/anaconda3/lib/python3.11/site-packages (from spacy<3.8.0,>=3.7.2->en-core-web-lg==3.7.1) (0.9.4)\n",
      "Requirement already satisfied: smart-open<7.0.0,>=5.2.1 in /opt/anaconda3/lib/python3.11/site-packages (from spacy<3.8.0,>=3.7.2->en-core-web-lg==3.7.1) (5.2.1)\n",
      "Requirement already satisfied: tqdm<5.0.0,>=4.38.0 in /opt/anaconda3/lib/python3.11/site-packages (from spacy<3.8.0,>=3.7.2->en-core-web-lg==3.7.1) (4.65.0)\n",
      "Requirement already satisfied: requests<3.0.0,>=2.13.0 in /opt/anaconda3/lib/python3.11/site-packages (from spacy<3.8.0,>=3.7.2->en-core-web-lg==3.7.1) (2.31.0)\n",
      "Requirement already satisfied: pydantic!=1.8,!=1.8.1,<3.0.0,>=1.7.4 in /opt/anaconda3/lib/python3.11/site-packages (from spacy<3.8.0,>=3.7.2->en-core-web-lg==3.7.1) (1.10.12)\n",
      "Requirement already satisfied: jinja2 in /opt/anaconda3/lib/python3.11/site-packages (from spacy<3.8.0,>=3.7.2->en-core-web-lg==3.7.1) (3.1.3)\n",
      "Requirement already satisfied: setuptools in /opt/anaconda3/lib/python3.11/site-packages (from spacy<3.8.0,>=3.7.2->en-core-web-lg==3.7.1) (69.5.1)\n",
      "Requirement already satisfied: packaging>=20.0 in /opt/anaconda3/lib/python3.11/site-packages (from spacy<3.8.0,>=3.7.2->en-core-web-lg==3.7.1) (23.1)\n",
      "Requirement already satisfied: langcodes<4.0.0,>=3.2.0 in /opt/anaconda3/lib/python3.11/site-packages (from spacy<3.8.0,>=3.7.2->en-core-web-lg==3.7.1) (3.3.0)\n",
      "Requirement already satisfied: numpy>=1.19.0 in /opt/anaconda3/lib/python3.11/site-packages (from spacy<3.8.0,>=3.7.2->en-core-web-lg==3.7.1) (1.26.4)\n",
      "Requirement already satisfied: typing-extensions>=4.2.0 in /opt/anaconda3/lib/python3.11/site-packages (from pydantic!=1.8,!=1.8.1,<3.0.0,>=1.7.4->spacy<3.8.0,>=3.7.2->en-core-web-lg==3.7.1) (4.9.0)\n",
      "Requirement already satisfied: charset-normalizer<4,>=2 in /opt/anaconda3/lib/python3.11/site-packages (from requests<3.0.0,>=2.13.0->spacy<3.8.0,>=3.7.2->en-core-web-lg==3.7.1) (2.0.4)\n",
      "Requirement already satisfied: idna<4,>=2.5 in /opt/anaconda3/lib/python3.11/site-packages (from requests<3.0.0,>=2.13.0->spacy<3.8.0,>=3.7.2->en-core-web-lg==3.7.1) (3.4)\n",
      "Requirement already satisfied: urllib3<3,>=1.21.1 in /opt/anaconda3/lib/python3.11/site-packages (from requests<3.0.0,>=2.13.0->spacy<3.8.0,>=3.7.2->en-core-web-lg==3.7.1) (2.0.7)\n",
      "Requirement already satisfied: certifi>=2017.4.17 in /opt/anaconda3/lib/python3.11/site-packages (from requests<3.0.0,>=2.13.0->spacy<3.8.0,>=3.7.2->en-core-web-lg==3.7.1) (2024.2.2)\n",
      "Requirement already satisfied: blis<0.8.0,>=0.7.8 in /opt/anaconda3/lib/python3.11/site-packages (from thinc<8.3.0,>=8.2.2->spacy<3.8.0,>=3.7.2->en-core-web-lg==3.7.1) (0.7.11)\n",
      "Requirement already satisfied: confection<1.0.0,>=0.0.1 in /opt/anaconda3/lib/python3.11/site-packages (from thinc<8.3.0,>=8.2.2->spacy<3.8.0,>=3.7.2->en-core-web-lg==3.7.1) (0.1.4)\n",
      "Requirement already satisfied: click<9.0.0,>=7.1.1 in /opt/anaconda3/lib/python3.11/site-packages (from typer<0.10.0,>=0.3.0->spacy<3.8.0,>=3.7.2->en-core-web-lg==3.7.1) (8.1.7)\n",
      "Requirement already satisfied: cloudpathlib<0.17.0,>=0.7.0 in /opt/anaconda3/lib/python3.11/site-packages (from weasel<0.4.0,>=0.1.0->spacy<3.8.0,>=3.7.2->en-core-web-lg==3.7.1) (0.16.0)\n",
      "Requirement already satisfied: MarkupSafe>=2.0 in /opt/anaconda3/lib/python3.11/site-packages (from jinja2->spacy<3.8.0,>=3.7.2->en-core-web-lg==3.7.1) (2.1.3)\n",
      "Installing collected packages: en-core-web-lg\n",
      "Successfully installed en-core-web-lg-3.7.1\n",
      "\u001b[38;5;2m✔ Download and installation successful\u001b[0m\n",
      "You can now load the package via spacy.load('en_core_web_lg')\n"
     ]
    }
   ],
   "source": [
    "# Download the english model - with word vectors\n",
    "!python -m spacy download en_core_web_lg"
   ]
  },
  {
   "cell_type": "code",
   "execution_count": 63,
   "metadata": {},
   "outputs": [],
   "source": [
    "# Load the large model with word vectors\n",
    "nlp_lg = spacy.load(\"en_core_web_lg\")\n",
    "\n",
    "# Process the text with SpaCy\n",
    "doc_lg = nlp_lg(article)\n"
   ]
  },
  {
   "cell_type": "code",
   "execution_count": 80,
   "metadata": {},
   "outputs": [
    {
     "data": {
      "text/html": [
       "<div>\n",
       "<style scoped>\n",
       "    .dataframe tbody tr th:only-of-type {\n",
       "        vertical-align: middle;\n",
       "    }\n",
       "\n",
       "    .dataframe tbody tr th {\n",
       "        vertical-align: top;\n",
       "    }\n",
       "\n",
       "    .dataframe thead th {\n",
       "        text-align: right;\n",
       "    }\n",
       "</style>\n",
       "<table border=\"1\" class=\"dataframe\">\n",
       "  <thead>\n",
       "    <tr style=\"text-align: right;\">\n",
       "      <th></th>\n",
       "      <th>Token</th>\n",
       "      <th>Similar_1</th>\n",
       "      <th>Prob_1</th>\n",
       "      <th>Similar_2</th>\n",
       "      <th>Prob_2</th>\n",
       "      <th>Similar_3</th>\n",
       "      <th>Prob_3</th>\n",
       "      <th>Similar_4</th>\n",
       "      <th>Prob_4</th>\n",
       "      <th>Similar_5</th>\n",
       "      <th>Prob_5</th>\n",
       "    </tr>\n",
       "  </thead>\n",
       "  <tbody>\n",
       "    <tr>\n",
       "      <th>0</th>\n",
       "      <td>Israel</td>\n",
       "      <td>Israelis</td>\n",
       "      <td>0.86</td>\n",
       "      <td>Israeli</td>\n",
       "      <td>0.83</td>\n",
       "      <td>Palestinian</td>\n",
       "      <td>0.80</td>\n",
       "      <td>Syria</td>\n",
       "      <td>0.68</td>\n",
       "      <td>Lebanon</td>\n",
       "      <td>0.67</td>\n",
       "    </tr>\n",
       "    <tr>\n",
       "      <th>1</th>\n",
       "      <td>and</td>\n",
       "      <td>various</td>\n",
       "      <td>0.70</td>\n",
       "      <td>including</td>\n",
       "      <td>0.69</td>\n",
       "      <td>international</td>\n",
       "      <td>0.67</td>\n",
       "      <td>both</td>\n",
       "      <td>0.66</td>\n",
       "      <td>particularly</td>\n",
       "      <td>0.66</td>\n",
       "    </tr>\n",
       "    <tr>\n",
       "      <th>2</th>\n",
       "      <td>Iran</td>\n",
       "      <td>Iranian</td>\n",
       "      <td>0.80</td>\n",
       "      <td>Syria</td>\n",
       "      <td>0.76</td>\n",
       "      <td>Iraq</td>\n",
       "      <td>0.73</td>\n",
       "      <td>Hezbollah</td>\n",
       "      <td>0.68</td>\n",
       "      <td>Yemen</td>\n",
       "      <td>0.66</td>\n",
       "    </tr>\n",
       "    <tr>\n",
       "      <th>3</th>\n",
       "      <td>on</td>\n",
       "      <td>along</td>\n",
       "      <td>0.42</td>\n",
       "      <td>off</td>\n",
       "      <td>0.38</td>\n",
       "      <td>across</td>\n",
       "      <td>0.38</td>\n",
       "      <td>instead</td>\n",
       "      <td>0.37</td>\n",
       "      <td>throughout</td>\n",
       "      <td>0.36</td>\n",
       "    </tr>\n",
       "    <tr>\n",
       "      <th>4</th>\n",
       "      <td>Friday</td>\n",
       "      <td>Saturday</td>\n",
       "      <td>0.91</td>\n",
       "      <td>morning</td>\n",
       "      <td>0.57</td>\n",
       "      <td>night</td>\n",
       "      <td>0.50</td>\n",
       "      <td>April</td>\n",
       "      <td>0.41</td>\n",
       "      <td>officials</td>\n",
       "      <td>0.36</td>\n",
       "    </tr>\n",
       "    <tr>\n",
       "      <th>...</th>\n",
       "      <td>...</td>\n",
       "      <td>...</td>\n",
       "      <td>...</td>\n",
       "      <td>...</td>\n",
       "      <td>...</td>\n",
       "      <td>...</td>\n",
       "      <td>...</td>\n",
       "      <td>...</td>\n",
       "      <td>...</td>\n",
       "      <td>...</td>\n",
       "      <td>...</td>\n",
       "    </tr>\n",
       "    <tr>\n",
       "      <th>494</th>\n",
       "      <td>go</td>\n",
       "      <td>run</td>\n",
       "      <td>0.57</td>\n",
       "      <td>going</td>\n",
       "      <td>0.55</td>\n",
       "      <td>send</td>\n",
       "      <td>0.53</td>\n",
       "      <td>jump</td>\n",
       "      <td>0.52</td>\n",
       "      <td>see</td>\n",
       "      <td>0.50</td>\n",
       "    </tr>\n",
       "    <tr>\n",
       "      <th>495</th>\n",
       "      <td>back</td>\n",
       "      <td>down</td>\n",
       "      <td>0.65</td>\n",
       "      <td>out</td>\n",
       "      <td>0.60</td>\n",
       "      <td>then</td>\n",
       "      <td>0.60</td>\n",
       "      <td>off</td>\n",
       "      <td>0.58</td>\n",
       "      <td>closer</td>\n",
       "      <td>0.58</td>\n",
       "    </tr>\n",
       "    <tr>\n",
       "      <th>496</th>\n",
       "      <td>sudden</td>\n",
       "      <td>apparent</td>\n",
       "      <td>0.48</td>\n",
       "      <td>cause</td>\n",
       "      <td>0.48</td>\n",
       "      <td>causing</td>\n",
       "      <td>0.46</td>\n",
       "      <td>suspicious</td>\n",
       "      <td>0.46</td>\n",
       "      <td>just</td>\n",
       "      <td>0.44</td>\n",
       "    </tr>\n",
       "    <tr>\n",
       "      <th>497</th>\n",
       "      <td>Which</td>\n",
       "      <td>That</td>\n",
       "      <td>0.71</td>\n",
       "      <td>that</td>\n",
       "      <td>0.57</td>\n",
       "      <td>It</td>\n",
       "      <td>0.56</td>\n",
       "      <td>this</td>\n",
       "      <td>0.56</td>\n",
       "      <td>And</td>\n",
       "      <td>0.56</td>\n",
       "    </tr>\n",
       "    <tr>\n",
       "      <th>498</th>\n",
       "      <td>worry</td>\n",
       "      <td>think</td>\n",
       "      <td>0.67</td>\n",
       "      <td>do</td>\n",
       "      <td>0.57</td>\n",
       "      <td>want</td>\n",
       "      <td>0.53</td>\n",
       "      <td>anything</td>\n",
       "      <td>0.53</td>\n",
       "      <td>But</td>\n",
       "      <td>0.52</td>\n",
       "    </tr>\n",
       "  </tbody>\n",
       "</table>\n",
       "<p>499 rows × 11 columns</p>\n",
       "</div>"
      ],
      "text/plain": [
       "      Token Similar_1  Prob_1  Similar_2  Prob_2      Similar_3  Prob_3  \\\n",
       "0    Israel  Israelis    0.86    Israeli    0.83    Palestinian    0.80   \n",
       "1       and   various    0.70  including    0.69  international    0.67   \n",
       "2      Iran   Iranian    0.80      Syria    0.76           Iraq    0.73   \n",
       "3        on     along    0.42        off    0.38         across    0.38   \n",
       "4    Friday  Saturday    0.91    morning    0.57          night    0.50   \n",
       "..      ...       ...     ...        ...     ...            ...     ...   \n",
       "494      go       run    0.57      going    0.55           send    0.53   \n",
       "495    back      down    0.65        out    0.60           then    0.60   \n",
       "496  sudden  apparent    0.48      cause    0.48        causing    0.46   \n",
       "497   Which      That    0.71       that    0.57             It    0.56   \n",
       "498   worry     think    0.67         do    0.57           want    0.53   \n",
       "\n",
       "      Similar_4  Prob_4     Similar_5  Prob_5  \n",
       "0         Syria    0.68       Lebanon    0.67  \n",
       "1          both    0.66  particularly    0.66  \n",
       "2     Hezbollah    0.68         Yemen    0.66  \n",
       "3       instead    0.37    throughout    0.36  \n",
       "4         April    0.41     officials    0.36  \n",
       "..          ...     ...           ...     ...  \n",
       "494        jump    0.52           see    0.50  \n",
       "495         off    0.58        closer    0.58  \n",
       "496  suspicious    0.46          just    0.44  \n",
       "497        this    0.56           And    0.56  \n",
       "498    anything    0.53           But    0.52  \n",
       "\n",
       "[499 rows x 11 columns]"
      ]
     },
     "execution_count": 80,
     "metadata": {},
     "output_type": "execute_result"
    }
   ],
   "source": [
    "\n",
    "# Collect tokens with vectors and are alphabetic, ensuring unique tokens by their vector\n",
    "seen_vectors = set()\n",
    "tokens = []\n",
    "for token in doc_lg:\n",
    "    if token.has_vector and token.is_alpha and token.vector_norm not in seen_vectors:\n",
    "        tokens.append(token)\n",
    "        seen_vectors.add(token.vector_norm)\n",
    "\n",
    "# Compute similarity with other words in the article\n",
    "similar_words = {}\n",
    "data = []\n",
    "for token in tokens:\n",
    "    # Filter out the current token itself from the tokens list before sorting for similarities\n",
    "    other_tokens = [other_token for other_token in tokens if other_token.i != token.i]\n",
    "    # Get the top 5 similar words for each token\n",
    "    if other_tokens:\n",
    "        top_similar = sorted(other_tokens, key=lambda x: token.similarity(x), reverse=True)[:5]\n",
    "        # Prepare row for each token with similar words and their probabilities\n",
    "        row = [token.text]\n",
    "        for w in top_similar:\n",
    "            row.extend([w.text, round(token.similarity(w), 2)])\n",
    "        data.append(row)\n",
    "\n",
    "# Create DataFrame with appropriate column names\n",
    "columns = ['Token'] + [item for i in range(5) for item in (f'Similar_{i+1}', f'Prob_{i+1}')]\n",
    "df = pd.DataFrame(data, columns=columns)\n",
    "df"
   ]
  }
 ],
 "metadata": {
  "kernelspec": {
   "display_name": "Python 3 (ipykernel)",
   "language": "python",
   "name": "python3"
  },
  "language_info": {
   "codemirror_mode": {
    "name": "ipython",
    "version": 3
   },
   "file_extension": ".py",
   "mimetype": "text/x-python",
   "name": "python",
   "nbconvert_exporter": "python",
   "pygments_lexer": "ipython3",
   "version": "3.9.12"
  }
 },
 "nbformat": 4,
 "nbformat_minor": 4
}
